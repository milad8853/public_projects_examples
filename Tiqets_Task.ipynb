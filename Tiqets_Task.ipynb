{
 "cells": [
  {
   "cell_type": "code",
   "execution_count": 1,
   "metadata": {},
   "outputs": [],
   "source": [
    "import pandas as pd\t\t\t\t\t\t\t\t\t\t\t\t\t# data manipulation\n",
    "import matplotlib.pyplot as plt\t\t\t\t\t\t\t\t\t\t\t\t# graphs\n",
    "import seaborn as sns\t\t\t\t\t\t\t\t\t\t\t\t\t# graphs\n",
    "import numpy as np\t\t\t\t\t\t\t\t\t\t\t\t\t# graphs\n",
    "from scipy.stats import norm\t\t\t\t\t\t\t\t\t\t\t\t# statistics\n",
    "from sklearn.preprocessing import StandardScaler\t\t\t\t\t\t\t\t\t# statistics\n",
    "from scipy import stats\t\t\t\t\t\t\t\t\t\t\t\t\t# statistics\n",
    "from math import *\t\t\t\t\t\t\t\t\t\t\t\t\t# advance calculation\t\n",
    "from matplotlib import cm\t\t\t\t\t\t\t\t\t\t\t\t# graphs\n",
    "import sys\t\t\t\t\t\t\t\t\t\t\t\t\t\t# system functions\n",
    "import warnings\t\t\t\t\t\t\t\t\t\t\t\t\t\t# indicating warnings\n",
    "warnings.filterwarnings('ignore')\t\t\t\t\t\t\t\t\t\t\t# ignore by default\n",
    "from matplotlib.ticker import LinearLocator\t\t\t\t\t\t\t\t\t\t# graphs\n",
    "pd.set_option('display.max_columns', None)\t\t\t\t\t\t\t\t\t\t# show all columns\n",
    "pd.set_option('display.max_rows', 100)\t\t\t\t\t\t\t\t\t\t\t# show all rows\n",
    "np.set_printoptions(threshold=sys.maxsize)\t\t\t\t\t\t\t\t\t\t# show arrays full\n",
    "pd.set_option(\"display.max_colwidth\", -1)\t\t\t\t\t\t\t\t\t\t# show a complete text in a cell\n",
    "pd.set_option('display.precision',5)\t\t\t\t\t\t\t\t\t\t\t# precision decimals pd\n",
    "np.set_printoptions(precision=3)\t\t\t\t\t\t\t\t\t\t\t# precision decimals np\n",
    "from xlsxwriter.workbook import Workbook\t\t\t\t\t\t\t\t\t\t# CSV writing\n",
    "import csv\t\t\t\t\t\t\t\t\t\t\t\t\t\t# CSV writing\t\n",
    "import xgboost as xgb\t\t\t\t\t\t\t\t\t\t\t\t\t# prediction\n",
    "import pickle\t\t\t\t\t\t\t\t\t\t\t\t\t\t# prediction\t\n",
    "import sklearn\t\t\t\t\t\t\t\t\t\t\t\t\t\t# mutual information\n",
    "import statsmodels.api as sm\t\t\t\t\t\t\t\t\t\t\t\t# coefficient\n",
    "from sklearn.ensemble import RandomForestClassifier\t\t\t\t\t\t\t\t\t# random forest\n",
    "from sklearn import linear_model\t\t\t\t\t\t\t\t\t\t\t# linear regression\n",
    "import pymysql\t\t\t\t\t\t\t\t\t\t\t\t\t\t# MySql connection\n",
    "import psycopg2\t\t\t\t\t\t\t\t\t\t\t\t\t\t# PostgreSQL database adapter\n",
    "import datetime\t\t\t\t\t\t\t\t\t\t\t\t\t\t# time conversions\n",
    "import random\t\t\t\t\t\t\t\t\t\t\t\t\t\t# randomchoice\n",
    "import math as math\t\t\t\t\t\t\t\t\t\t\t\t\t# maths\n",
    "import statistics\t\t\t\t\t\t\t\t\t\t\t\t\t# statistics\n",
    "import glob\t\t\t\t\t\t\t\t\t\t\t\t\t\t# paths and files management\n",
    "import matplotlib.image as mpimg\t\t\t\t\t\t\t\t\t\t\t# matplot image\n",
    "from functools import reduce\t\t\t\t\t\t\t\t\t\t\t\t# reduce"
   ]
  },
  {
   "cell_type": "code",
   "execution_count": 31,
   "metadata": {},
   "outputs": [],
   "source": [
    "# Reading 2 tables from the AWS\n",
    "conn = psycopg2.connect(\n",
    "    host=\"da-assignment-db.cgnpeyd28dyn.eu-west-1.rds.amazonaws.com\",\n",
    "    port=\"5432\",\n",
    "    database=\"postgres\",\n",
    "    user=\"da_user\",\n",
    "    password=\"BNjv!9Met3\")\n",
    "\n",
    "Query=\"SELECT * FROM assignment.page_views_da;\"\n",
    "cursor=conn.cursor()\n",
    "cursor.execute(Query)\n",
    "rows=cursor.fetchall()\n",
    "column_names = [i[0] for i in cursor.description]\n",
    "fp = open('assignment.page_views_da.csv', 'w')\n",
    "myFile = csv.writer(fp, lineterminator = '\\n')\n",
    "myFile.writerow(column_names)   \n",
    "myFile.writerows(rows)\n",
    "fp.close()\n",
    "\n",
    "Query=\"SELECT * FROM assignment.sessions;\"\n",
    "cursor=conn.cursor()\n",
    "cursor.execute(Query)\n",
    "rows=cursor.fetchall()\n",
    "column_names = [i[0] for i in cursor.description]\n",
    "fp = open('assignment.sessions.csv', 'w', encoding=\"utf_8\")\n",
    "myFile = csv.writer(fp, lineterminator = '\\n')\n",
    "myFile.writerow(column_names)   \n",
    "myFile.writerows(rows)\n",
    "fp.close()\n",
    "\n",
    "# Merge, sort, deal with white spaces\n",
    "dfp = pd.read_csv('assignment.page_views_da.csv')\n",
    "dfs = pd.read_csv('assignment.sessions.csv', encoding='utf_8')\n",
    "dfs.rename(columns={'id':'session_id'}, inplace=True)\n",
    "dfp['time_of_day'] = pd.to_timedelta(dfp['time_of_day'])\n",
    "df = dfp.merge(dfs, on=\"session_id\")\n",
    "df = df.sort_values(['user_fingerprint', 'day_number','time_of_day'], ascending=[True, True, True])\n",
    "df = df.reset_index(drop=True)\n",
    "for column in df.columns.drop(['day_number','time_of_day','ua_is_mobile','ua_is_pc','ua_is_tablet']):\n",
    "    df[column] = df[column].str.strip()\n",
    "df.columns = ['Day', 'Time', 'SessionID', 'UserID','PageType','ConfirmationID','Mobile','PC','Tablet','OS','City','Country']\n",
    "dftarget2 = df.loc[df['ConfirmationID'].notnull()]\n",
    "for index in dftarget2.index:\n",
    "    if dftarget2.duplicated(subset=['ConfirmationID'])[index] == True:\n",
    "        df.at[index, 'ConfirmationID'] = np.nan"
   ]
  },
  {
   "cell_type": "code",
   "execution_count": 62,
   "metadata": {},
   "outputs": [
    {
     "name": "stdout",
     "output_type": "stream",
     "text": [
      "1a answer is: [('3.19%',)]\n"
     ]
    }
   ],
   "source": [
    "# 1a answer (Via SQL)\n",
    "Query=\"SELECT CONCAT(ROUND(COUNT(DISTINCT a.confirmation_id)::decimal/COUNT(DISTINCT a.session_id)*100,2),'%') AS ConversionRate \\\n",
    "    FROM assignment.page_views_da a \\\n",
    "    LEFT JOIN assignment.sessions b ON a.session_id=b.id \\\n",
    "    WHERE b.ua_is_mobile =True;\"\n",
    "\n",
    "cursor=conn.cursor()\n",
    "cursor.execute(Query)\n",
    "print('1a answer is:',cursor.fetchall())"
   ]
  },
  {
   "cell_type": "code",
   "execution_count": 75,
   "metadata": {
    "scrolled": true
   },
   "outputs": [
    {
     "name": "stdout",
     "output_type": "stream",
     "text": [
      "1b answer is: 2.51\n"
     ]
    }
   ],
   "source": [
    "# 1b answer (Via Python)\n",
    "def count1(df):\n",
    "    i=0\n",
    "    a = [''] * 300000\n",
    "    for userid in df['user_fingerprint'].unique():\n",
    "        dftarget = df.loc[df['user_fingerprint'] == userid]\n",
    "        if dftarget['session_id'].nunique() > 1: \n",
    "            for item in range(1, len(dftarget['session_id'].unique())): \n",
    "                if dftarget.loc[dftarget['session_id'] == dftarget['session_id'].unique()[item]]['page_type'].head(1).sum() == 'product':\n",
    "                    for session in dftarget['session_id'].unique()[item:]:\n",
    "                        a[i] = session\n",
    "                        i=i+1\n",
    "    return a\n",
    "\n",
    "session_id = count1(df)\n",
    "dftarget = df.loc[df['session_id'].isin(session_id)]\n",
    "print('1b answer is:',round(dftarget.shape[0]/dftarget['session_id'].nunique(),2))"
   ]
  },
  {
   "cell_type": "code",
   "execution_count": 97,
   "metadata": {},
   "outputs": [
    {
     "name": "stdout",
     "output_type": "stream",
     "text": [
      "365742\n",
      "292040\n",
      "89426\n",
      "20680\n",
      "12209\n",
      "10506\n"
     ]
    }
   ],
   "source": [
    "# Funnel analysis in order\n",
    "print(df['SessionID'].nunique())\n",
    "print(df.loc[(df['PageType'] == 'product') | (df['PageType'] == 'location')]['SessionID'].nunique())\n",
    "print(df.loc[df['PageType'] == 'bookingDetails']['SessionID'].nunique())\n",
    "print(df.loc[df['PageType'] == 'personalDetails']['SessionID'].nunique())\n",
    "print(df.loc[df['PageType'] == 'payment']['SessionID'].nunique())\n",
    "print(df['ConfirmationID'].nunique())"
   ]
  },
  {
   "cell_type": "code",
   "execution_count": 4,
   "metadata": {
    "scrolled": true
   },
   "outputs": [],
   "source": [
    "# List of returning sessions\n",
    "def solve(df):\n",
    "    i=0\n",
    "    a = [''] * 100000\n",
    "    for user in df['UserID'].unique():\n",
    "        dftarget = df.loc[df['UserID'] == user]\n",
    "        if dftarget['SessionID'].nunique() > 1:\n",
    "             for session in dftarget['SessionID'].unique()[1:]:\n",
    "                a[i] = session\n",
    "                i=i+1\n",
    "    return a\n",
    "a = solve(df)\n",
    "\n",
    "# Day, SessionID, Confirmation\n",
    "# ReturningSession, BounceRate(Later), SessionDuration, EventsPerSession\n",
    "# LandingPage, Device, OS, City, Country\n",
    "def result(df):\n",
    "    dfresult = pd.DataFrame(data={'Day':[''],'SessionID':[''],'Confirmation':[''],'Returning':[''],'SessionDuration':[''],\n",
    "    'Event':[''],'LandingPage':[''],'Device':[''], 'OS':[''],'City':[''],'Country':['']},\n",
    "    columns=['Day','SessionID','Confirmation','Returning','SessionDuration','Event','LandingPage','Device','OS','City','Country'])\n",
    "    index = 0\n",
    "    for session in df['SessionID'].unique():\n",
    "        dftarget = df.loc[df['SessionID'] == session]\n",
    "        dfresult.at[index, 'Day'] = dftarget['Day'].head(1).sum()\n",
    "        dfresult.at[index, 'SessionID'] = session\n",
    "        dfresult.at[index, 'Confirmation'] = dftarget['ConfirmationID'].notnull().sum()\n",
    "        if session in a:\n",
    "            dfresult.at[index, 'Returning'] = 1\n",
    "        else:\n",
    "            dfresult.at[index, 'Returning'] = 0\n",
    "        dfresult.at[index, 'SessionDuration'] = sessionduration = round((dftarget['Time'].tail(1).sum() - dftarget['Time'].head(1).sum()) / np.timedelta64(1, 's'),0)\n",
    "        if sessionduration == 0:\n",
    "            dfresult.at[index, 'SessionDuration'] = np.nan\n",
    "        dfresult.at[index, 'Event'] = dftarget.shape[0]\n",
    "        dfresult.at[index, 'LandingPage'] = dftarget['PageType'].head(1).sum()\n",
    "        if dftarget['Mobile'].head(1).sum() == 1:\n",
    "            dfresult.at[index, 'Device'] = 'Mobile'\n",
    "        elif dftarget['PC'].head(1).sum() == 1:\n",
    "            dfresult.at[index, 'Device'] = 'PC'\n",
    "        else:\n",
    "            dfresult.at[index, 'Device'] = 'OS'\n",
    "        dfresult.at[index, 'OS'] = dftarget['OS'].head(1).sum()\n",
    "        dfresult.at[index, 'City'] = city = dftarget['City'].head(1).sum()\n",
    "        if city == 0:\n",
    "            dfresult.at[index, 'City'] = np.nan\n",
    "        dfresult.at[index, 'Country'] = dftarget['Country'].head(1).sum()\n",
    "        index=index + 1\n",
    "    return dfresult\n",
    "dfresult = result(df)\n",
    "dfresult.to_csv('dfresult.csv', index=None)"
   ]
  },
  {
   "cell_type": "code",
   "execution_count": 6,
   "metadata": {},
   "outputs": [],
   "source": [
    "df = pd.read_csv('dfresult.csv')\n",
    "df.at[df.loc[df['Device'] == 'OS'].index,'Device'] = 'Tablet'"
   ]
  },
  {
   "cell_type": "code",
   "execution_count": 87,
   "metadata": {},
   "outputs": [
    {
     "data": {
      "text/plain": [
       "25.57"
      ]
     },
     "execution_count": 87,
     "metadata": {},
     "output_type": "execute_result"
    }
   ],
   "source": [
    "# Returning Sessions\n",
    "\n",
    "round(df.loc[df['Returning'] == 1].shape[0]/df.shape[0]*100,2)"
   ]
  },
  {
   "cell_type": "code",
   "execution_count": 84,
   "metadata": {},
   "outputs": [
    {
     "data": {
      "text/plain": [
       "64.14"
      ]
     },
     "execution_count": 84,
     "metadata": {},
     "output_type": "execute_result"
    }
   ],
   "source": [
    "# Tiqets bounce rate:\n",
    "\n",
    "round(df.loc[((df['SessionDuration'] > 60) & (df['Event'] == 2)) | (df['Event'] == 1) ].shape[0]/df.shape[0]*100,2)"
   ]
  },
  {
   "cell_type": "code",
   "execution_count": 79,
   "metadata": {},
   "outputs": [
    {
     "data": {
      "text/plain": [
       "0.85"
      ]
     },
     "execution_count": 79,
     "metadata": {},
     "output_type": "execute_result"
    }
   ],
   "source": [
    "# ConfirmationPerSession for bounces \n",
    "\n",
    "dftarget1 = df.loc[((df['SessionDuration'] > 60) & (df['Event'] == 2)) | (df['Event'] == 1) ]\n",
    "round(dftarget1['Confirmation'].mean()*100,2)\n"
   ]
  },
  {
   "cell_type": "code",
   "execution_count": 81,
   "metadata": {},
   "outputs": [
    {
     "data": {
      "text/plain": [
       "5.74"
      ]
     },
     "execution_count": 81,
     "metadata": {},
     "output_type": "execute_result"
    }
   ],
   "source": [
    "# ConfirmationPerSession for non-bounces \n",
    "\n",
    "dftarget2 = df.loc[df['Event'] != 1 ]\n",
    "round(dftarget2['Confirmation'].mean()*100,2)\n"
   ]
  },
  {
   "cell_type": "code",
   "execution_count": 101,
   "metadata": {},
   "outputs": [
    {
     "data": {
      "text/plain": [
       "1.96"
      ]
     },
     "execution_count": 101,
     "metadata": {},
     "output_type": "execute_result"
    }
   ],
   "source": [
    "# Average Session Duration (01:57)\n",
    "\n",
    "round(df['SessionDuration'].sum()/df.shape[0]/60,2)"
   ]
  },
  {
   "cell_type": "code",
   "execution_count": 96,
   "metadata": {},
   "outputs": [
    {
     "data": {
      "text/plain": [
       "2.15"
      ]
     },
     "execution_count": 96,
     "metadata": {},
     "output_type": "execute_result"
    }
   ],
   "source": [
    "# Events Per Session\n",
    "\n",
    "round(df['Event'].mean(),2)"
   ]
  },
  {
   "cell_type": "code",
   "execution_count": 94,
   "metadata": {},
   "outputs": [
    {
     "data": {
      "text/html": [
       "<div>\n",
       "<style scoped>\n",
       "    .dataframe tbody tr th:only-of-type {\n",
       "        vertical-align: middle;\n",
       "    }\n",
       "\n",
       "    .dataframe tbody tr th {\n",
       "        vertical-align: top;\n",
       "    }\n",
       "\n",
       "    .dataframe thead th {\n",
       "        text-align: right;\n",
       "    }\n",
       "</style>\n",
       "<table border=\"1\" class=\"dataframe\">\n",
       "  <thead>\n",
       "    <tr style=\"text-align: right;\">\n",
       "      <th></th>\n",
       "      <th>Day</th>\n",
       "      <th>SessionID</th>\n",
       "      <th>Confirmation</th>\n",
       "      <th>Returning</th>\n",
       "      <th>SessionDuration</th>\n",
       "      <th>Event</th>\n",
       "      <th>LandingPage</th>\n",
       "      <th>Device</th>\n",
       "      <th>OS</th>\n",
       "      <th>City</th>\n",
       "      <th>Country</th>\n",
       "    </tr>\n",
       "  </thead>\n",
       "  <tbody>\n",
       "    <tr>\n",
       "      <th>0</th>\n",
       "      <td>12</td>\n",
       "      <td>9f47e9af13b1a53294e66906f17a4709</td>\n",
       "      <td>0</td>\n",
       "      <td>0</td>\n",
       "      <td>NaN</td>\n",
       "      <td>1</td>\n",
       "      <td>location</td>\n",
       "      <td>Mobile</td>\n",
       "      <td>iOS</td>\n",
       "      <td>Gignac-la-Nerthe</td>\n",
       "      <td>FR</td>\n",
       "    </tr>\n",
       "    <tr>\n",
       "      <th>1</th>\n",
       "      <td>5</td>\n",
       "      <td>1921684f7b0a57a1a62618d750cd0de1</td>\n",
       "      <td>0</td>\n",
       "      <td>0</td>\n",
       "      <td>NaN</td>\n",
       "      <td>1</td>\n",
       "      <td>location</td>\n",
       "      <td>Mobile</td>\n",
       "      <td>iOS</td>\n",
       "      <td>Vienna</td>\n",
       "      <td>AT</td>\n",
       "    </tr>\n",
       "    <tr>\n",
       "      <th>2</th>\n",
       "      <td>13</td>\n",
       "      <td>dad3041cd185baa10783f2abacbb6199</td>\n",
       "      <td>0</td>\n",
       "      <td>0</td>\n",
       "      <td>395.0</td>\n",
       "      <td>4</td>\n",
       "      <td>product</td>\n",
       "      <td>PC</td>\n",
       "      <td>Mac OS X</td>\n",
       "      <td>Annen</td>\n",
       "      <td>NL</td>\n",
       "    </tr>\n",
       "    <tr>\n",
       "      <th>3</th>\n",
       "      <td>11</td>\n",
       "      <td>d4c30e35e9fc50306853a94d4cbe64c1</td>\n",
       "      <td>0</td>\n",
       "      <td>0</td>\n",
       "      <td>NaN</td>\n",
       "      <td>1</td>\n",
       "      <td>product</td>\n",
       "      <td>PC</td>\n",
       "      <td>Windows</td>\n",
       "      <td>Beitostolen</td>\n",
       "      <td>NO</td>\n",
       "    </tr>\n",
       "    <tr>\n",
       "      <th>4</th>\n",
       "      <td>12</td>\n",
       "      <td>394a0b29dd122e17750199419cd69ddc</td>\n",
       "      <td>0</td>\n",
       "      <td>0</td>\n",
       "      <td>46.0</td>\n",
       "      <td>2</td>\n",
       "      <td>product</td>\n",
       "      <td>Mobile</td>\n",
       "      <td>iOS</td>\n",
       "      <td>Vancouver</td>\n",
       "      <td>CA</td>\n",
       "    </tr>\n",
       "    <tr>\n",
       "      <th>5</th>\n",
       "      <td>6</td>\n",
       "      <td>ccf9be4089b5acff3b539cfc40a6eeb3</td>\n",
       "      <td>0</td>\n",
       "      <td>0</td>\n",
       "      <td>1230.0</td>\n",
       "      <td>4</td>\n",
       "      <td>product</td>\n",
       "      <td>PC</td>\n",
       "      <td>Mac OS X</td>\n",
       "      <td>Chicago</td>\n",
       "      <td>US</td>\n",
       "    </tr>\n",
       "    <tr>\n",
       "      <th>6</th>\n",
       "      <td>8</td>\n",
       "      <td>2e3d11bdb53e1b9ad43ac52302cd586b</td>\n",
       "      <td>0</td>\n",
       "      <td>1</td>\n",
       "      <td>9.0</td>\n",
       "      <td>3</td>\n",
       "      <td>product</td>\n",
       "      <td>PC</td>\n",
       "      <td>Mac OS X</td>\n",
       "      <td>Chicago</td>\n",
       "      <td>US</td>\n",
       "    </tr>\n",
       "    <tr>\n",
       "      <th>7</th>\n",
       "      <td>10</td>\n",
       "      <td>83ba21e31881ec5ec5bfbd879c4456dc</td>\n",
       "      <td>0</td>\n",
       "      <td>1</td>\n",
       "      <td>NaN</td>\n",
       "      <td>1</td>\n",
       "      <td>product</td>\n",
       "      <td>PC</td>\n",
       "      <td>Mac OS X</td>\n",
       "      <td>Chicago</td>\n",
       "      <td>US</td>\n",
       "    </tr>\n",
       "    <tr>\n",
       "      <th>8</th>\n",
       "      <td>10</td>\n",
       "      <td>5da8a9576dc85f7879b9ed8aa5d9c586</td>\n",
       "      <td>0</td>\n",
       "      <td>1</td>\n",
       "      <td>NaN</td>\n",
       "      <td>1</td>\n",
       "      <td>product</td>\n",
       "      <td>PC</td>\n",
       "      <td>Mac OS X</td>\n",
       "      <td>Chicago</td>\n",
       "      <td>US</td>\n",
       "    </tr>\n",
       "    <tr>\n",
       "      <th>9</th>\n",
       "      <td>8</td>\n",
       "      <td>2df5a5b0eeb00b241b86c7ccc3de2672</td>\n",
       "      <td>0</td>\n",
       "      <td>0</td>\n",
       "      <td>NaN</td>\n",
       "      <td>1</td>\n",
       "      <td>location</td>\n",
       "      <td>Mobile</td>\n",
       "      <td>Android</td>\n",
       "      <td>Vienna</td>\n",
       "      <td>AT</td>\n",
       "    </tr>\n",
       "  </tbody>\n",
       "</table>\n",
       "</div>"
      ],
      "text/plain": [
       "   Day                         SessionID  Confirmation  Returning  \\\n",
       "0  12   9f47e9af13b1a53294e66906f17a4709  0             0           \n",
       "1  5    1921684f7b0a57a1a62618d750cd0de1  0             0           \n",
       "2  13   dad3041cd185baa10783f2abacbb6199  0             0           \n",
       "3  11   d4c30e35e9fc50306853a94d4cbe64c1  0             0           \n",
       "4  12   394a0b29dd122e17750199419cd69ddc  0             0           \n",
       "5  6    ccf9be4089b5acff3b539cfc40a6eeb3  0             0           \n",
       "6  8    2e3d11bdb53e1b9ad43ac52302cd586b  0             1           \n",
       "7  10   83ba21e31881ec5ec5bfbd879c4456dc  0             1           \n",
       "8  10   5da8a9576dc85f7879b9ed8aa5d9c586  0             1           \n",
       "9  8    2df5a5b0eeb00b241b86c7ccc3de2672  0             0           \n",
       "\n",
       "   SessionDuration  Event LandingPage  Device        OS              City  \\\n",
       "0 NaN               1      location    Mobile  iOS       Gignac-la-Nerthe   \n",
       "1 NaN               1      location    Mobile  iOS       Vienna             \n",
       "2  395.0            4      product     PC      Mac OS X  Annen              \n",
       "3 NaN               1      product     PC      Windows   Beitostolen        \n",
       "4  46.0             2      product     Mobile  iOS       Vancouver          \n",
       "5  1230.0           4      product     PC      Mac OS X  Chicago            \n",
       "6  9.0              3      product     PC      Mac OS X  Chicago            \n",
       "7 NaN               1      product     PC      Mac OS X  Chicago            \n",
       "8 NaN               1      product     PC      Mac OS X  Chicago            \n",
       "9 NaN               1      location    Mobile  Android   Vienna             \n",
       "\n",
       "  Country  \n",
       "0  FR      \n",
       "1  AT      \n",
       "2  NL      \n",
       "3  NO      \n",
       "4  CA      \n",
       "5  US      \n",
       "6  US      \n",
       "7  US      \n",
       "8  US      \n",
       "9  AT      "
      ]
     },
     "execution_count": 94,
     "metadata": {},
     "output_type": "execute_result"
    }
   ],
   "source": [
    "df.head(10)"
   ]
  }
 ],
 "metadata": {
  "kernelspec": {
   "display_name": "Python 3",
   "language": "python",
   "name": "python3"
  },
  "language_info": {
   "codemirror_mode": {
    "name": "ipython",
    "version": 3
   },
   "file_extension": ".py",
   "mimetype": "text/x-python",
   "name": "python",
   "nbconvert_exporter": "python",
   "pygments_lexer": "ipython3",
   "version": "3.8.3"
  }
 },
 "nbformat": 4,
 "nbformat_minor": 4
}
