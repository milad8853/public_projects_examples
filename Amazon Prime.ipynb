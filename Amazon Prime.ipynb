{
 "cells": [
  {
   "cell_type": "code",
   "execution_count": 1,
   "metadata": {},
   "outputs": [],
   "source": [
    "import pandas as pd\t\t\t\t\t\t\t\t\t\t\t\t\t# data manipulation\n",
    "import matplotlib.pyplot as plt\t\t\t\t\t\t\t\t\t\t\t\t# graphs\n",
    "import seaborn as sns\t\t\t\t\t\t\t\t\t\t\t\t\t# graphs\n",
    "import numpy as np\t\t\t\t\t\t\t\t\t\t\t\t\t# graphs\n",
    "from scipy.stats import norm\t\t\t\t\t\t\t\t\t\t\t\t# statistics\n",
    "from sklearn.preprocessing import StandardScaler\t\t\t\t\t\t\t\t\t# statistics\n",
    "from scipy import stats\t\t\t\t\t\t\t\t\t\t\t\t\t# statistics\n",
    "from math import *\t\t\t\t\t\t\t\t\t\t\t\t\t# advance calculation\t\n",
    "from matplotlib import cm\t\t\t\t\t\t\t\t\t\t\t\t# graphs\n",
    "import sys\t\t\t\t\t\t\t\t\t\t\t\t\t\t# system functions\n",
    "import warnings\t\t\t\t\t\t\t\t\t\t\t\t\t\t# indicating warnings\n",
    "warnings.filterwarnings('ignore')\t\t\t\t\t\t\t\t\t\t\t# ignore by default\n",
    "from matplotlib.ticker import LinearLocator\t\t\t\t\t\t\t\t\t\t# graphs\n",
    "pd.set_option('display.max_columns', None)\t\t\t\t\t\t\t\t\t\t# show all columns\n",
    "pd.set_option('display.max_rows', None)\t\t\t\t\t\t\t\t\t\t\t# show all rows\n",
    "np.set_printoptions(threshold=sys.maxsize)\t\t\t\t\t\t\t\t\t\t# show arrays full\n",
    "pd.set_option(\"display.max_colwidth\", -1)\t\t\t\t\t\t\t\t\t\t# show a complete text in a cell\n",
    "from xlsxwriter.workbook import Workbook\t\t\t\t\t\t\t\t\t\t# CSV writing\n",
    "import csv\t\t\t\t\t\t\t\t\t\t\t\t\t\t# CSV writing\t\n",
    "import xgboost as xgb\t\t\t\t\t\t\t\t\t\t\t\t\t# prediction\n",
    "import pickle\t\t\t\t\t\t\t\t\t\t\t\t\t\t# prediction\t\n",
    "import sklearn\t\t\t\t\t\t\t\t\t\t\t\t\t\t# mutual information\n",
    "import statsmodels.api as sm\t\t\t\t\t\t\t\t\t\t\t\t# coefficient\n",
    "from sklearn.ensemble import RandomForestClassifier\t\t\t\t\t\t\t\t\t# random forest\n",
    "from sklearn import linear_model\t\t\t\t\t\t\t\t\t\t\t# linear regression\n",
    "import pymysql\t\t\t\t\t\t\t\t\t\t\t\t\t\t# MySql connection\n",
    "import datetime\t\t\t\t\t\t\t\t\t\t\t\t\t\t# time conversions\n",
    "import random\t"
   ]
  },
  {
   "cell_type": "code",
   "execution_count": 211,
   "metadata": {
    "scrolled": true
   },
   "outputs": [],
   "source": [
    "df = pd.read_csv('df_Amazon Prime.csv', encoding= 'unicode_escape')"
   ]
  },
  {
   "cell_type": "code",
   "execution_count": 212,
   "metadata": {
    "scrolled": true
   },
   "outputs": [],
   "source": [
    "df.columns = ['Title', 'ProductionYear', 'ParentalRate', 'IMDBRate', 'AmazonRate']\n",
    "df = df.sort_values(['AmazonRate', 'IMDBRate'], ascending=[False, False])\n",
    "df['AmazonRate'] = df['AmazonRate'] / 10"
   ]
  },
  {
   "cell_type": "code",
   "execution_count": 278,
   "metadata": {
    "scrolled": false
   },
   "outputs": [
    {
     "data": {
      "image/png": "[encoded data removed]",
      "text/plain": [
       "<Figure size 1080x504 with 1 Axes>"
      ]
     },
     "metadata": {
      "needs_background": "light"
     },
     "output_type": "display_data"
    }
   ],
   "source": [
    "AmazonRate = df.groupby(['AmazonRate'])['Title'].count()\n",
    "IMDBRate = df.groupby(['IMDBRate'])['Title'].count()\n",
    "df2 = pd.concat([AmazonRate, IMDBRate], axis=1, keys=['AmazonRate', 'IMDBRate'])\n",
    "\n",
    "ind = df2.index  \n",
    "width = 0.05    \n",
    "fig, ax = plt.subplots(figsize=(15, 7))\n",
    "rects1 = ax.bar(ind, df2['AmazonRate'], width, color='purple' )\n",
    "rects2 = ax.bar(ind+width, df2['IMDBRate'], width, color='yellow')\n",
    "ax.legend( (rects1[0], rects2[0]), ('Amazon', 'IMDB'), loc='upper right' );"
   ]
  }
 ],
 "metadata": {
  "kernelspec": {
   "display_name": "Python 3",
   "language": "python",
   "name": "python3"
  },
  "language_info": {
   "codemirror_mode": {
    "name": "ipython",
    "version": 3
   },
   "file_extension": ".py",
   "mimetype": "text/x-python",
   "name": "python",
   "nbconvert_exporter": "python",
   "pygments_lexer": "ipython3",
   "version": "3.8.3"
  }
 },
 "nbformat": 4,
 "nbformat_minor": 4
}
