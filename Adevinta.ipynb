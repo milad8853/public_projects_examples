{
 "cells": [
  {
   "cell_type": "markdown",
   "metadata": {},
   "source": [
    "\n",
    "# Instruction\n",
    "\n",
    "Task description and data for candidates applying to be a Data Analyst at Schibsted.\n",
    "\n",
    "## Background\n",
    "\n",
    "*Event logging* (EL) is used to track a variety of performance and usage metrics to help on the decision making process. Specifically, the most used metrics are:\n",
    "\n",
    "- *clickthrough rate*: the proportion of search sessions where the user clicked on one of the results displayed\n",
    "- *zero results rate*: the proportion of searches that yielded 0 results\n",
    "\n",
    "and other metrics outside the scope of this task. EL uses JavaScript to asynchronously send messages (events) to the servers when the user has performed specific actions. In this task, you will analyze a subset of our event logs.\n",
    "\n",
    "## Task\n",
    "\n",
    "You must create a **reproducible report**\\* answering the following questions:\n",
    "\n",
    "1. What is the daily overall clickthrough rate? How does it vary between the groups?\n",
    "2. Which results do people tend to try first? How does it change day-to-day?\n",
    "3. What is the daily overall zero results rate? How does it vary between the groups?\n",
    "4. Let *session length* be approximately the time between the first event and the last event in a session. Choose a variable from the dataset and describe its relationship to session length. Visualize the relationship.\n",
    "5. Summarize your findings in an *executive summary*.\n",
    "\n",
    "\\* Given dependencies and other instructions, we should be able to re-run your source code with the dataset in the same directory and obtain the same results and figures. Popular formats for this include RMarkdown and Jupyter Notebook (formerly IPython).\n",
    "\n",
    "## Data\n",
    "\n",
    "Desktop users are randomly sampled to be anonymously tracked by this schema which uses a \"I'm alive\" pinging system that it is used to estimate how long users stay on the pages they visit. The dataset contains just a little more than a week of EL data.\n",
    "\n",
    "| Column          | Value   | Description                                                                       |\n",
    "|:----------------|:--------|:----------------------------------------------------------------------------------|\n",
    "| uuid            | string  | Universally unique identifier (UUID) for backend event handling.                  |\n",
    "| timestamp       | integer | The date and time (UTC) of the event, formatted as YYYYMMDDhhmmss.                |\n",
    "| session_id      | string  | A unique ID identifying individual sessions.                                      |\n",
    "| group           | string  | A label (\"a\" or \"b\").                                     |\n",
    "| action          | string  | Identifies in which the event was created. See below.                             |\n",
    "| checkin         | integer | How many seconds the page has been open for.                                      |\n",
    "| page_id         | string  | A unique identifier for correlating page visits and check-ins.                    |\n",
    "| n_results       | integer | Number of hits returned to the user. Only shown for searchResultPage events.      |\n",
    "| result_position | integer | The position of the visited page's link on the search engine results page (SERP). |\n",
    "\n",
    "The following are possible values for an event's action field:\n",
    "\n",
    "- **searchResultPage**: when a new search is performed and the user is shown a SERP.\n",
    "- **visitPage**: when the user clicks a link in the results.\n",
    "- **checkin**: when the user has remained on the page for a pre-specified amount of time.\n",
    "\n",
    "### Example Session\n",
    "\n",
    "|uuid                             |      timestamp|session_id       |group |action           | checkin|page_id          | n_results| result_position|\n",
    "|:--------------------------------|:--------------|:----------------|:-----|:----------------|-------:|:----------------|---------:|---------------:|\n",
    "|4f699f344515554a9371fe4ecb5b9ebc | 20160305195246|001e61b5477f5efc |b     |searchResultPage |      NA|1b341d0ab80eb77e |         7|              NA|\n",
    "|759d1dc9966353c2a36846a61125f286 | 20160305195302|001e61b5477f5efc |b     |visitPage        |      NA|5a6a1f75124cbf03 |        NA|               1|\n",
    "|77efd5a00a5053c4a713fbe5a48dbac4 | 20160305195312|001e61b5477f5efc |b     |checkin          |      10|5a6a1f75124cbf03 |        NA|               1|\n",
    "|42420284ad895ec4bcb1f000b949dd5e | 20160305195322|001e61b5477f5efc |b     |checkin          |      20|5a6a1f75124cbf03 |        NA|               1|\n",
    "|8ffd82c27a355a56882b5860993bd308 | 20160305195332|001e61b5477f5efc |b     |checkin          |      30|5a6a1f75124cbf03 |        NA|               1|\n",
    "|2988d11968b25b29add3a851bec2fe02 | 20160305195342|001e61b5477f5efc |b     |checkin          |      40|5a6a1f75124cbf03 |        NA|               1|\n",
    "\n",
    "This user's search query returned 7 results, they clicked on the first result, and stayed on the page between 40 and 50 seconds. (The next check-in would have happened at 50s.)\n",
    "\n",
    "Task 100% inspired by this one -> https://github.com/wikimedia-research/Discovery-Hiring-Analyst-2016"
   ]
  },
  {
   "cell_type": "markdown",
   "metadata": {},
   "source": [
    "# Targets:\n",
    "\n",
    "**Task1/Click-through rate (CTR)**: count of first visited pages per all of the searches (the bigger the better)\n",
    "\n",
    "**Task 2**: The histogram of result_positions if action=visitPage  \n",
    "\n",
    "**Task3/Zero results rate (ZRR)**: count of searches yielded zero per all of the searches(the smaller the better)\n",
    "\n",
    "**Task 4**: Define a new table probably and try to find an insight\n",
    "\n",
    "**Find any other insights + writing an executive summary"
   ]
  },
  {
   "cell_type": "code",
   "execution_count": 47,
   "metadata": {},
   "outputs": [],
   "source": [
    "# Import all the libs here\n",
    "\n",
    "import pandas as pd\t\t\t\t\t\t\t\t\t# data manipulation\n",
    "import matplotlib.pyplot as plt\t\t\t\t\t\t# graphs\n",
    "import seaborn as sns\t\t\t\t\t\t\t\t# graphs\n",
    "import numpy as np\t\t\t\t\t\t\t\t\t# graphs\n",
    "from matplotlib import cm\t\t\t\t\t\t\t# graphs\n",
    "import sys\t\t\t\t\t\t\t\t\t\t\t# system functions\n",
    "import warnings\t\t\t\t\t\t\t\t\t\t# indicating warnings\n",
    "warnings.filterwarnings('ignore')\t\t\t\t\t# ignore by default\n",
    "from matplotlib.ticker import LinearLocator\t\t\t# graphs\n",
    "pd.set_option('display.max_columns', None)\t\t\t# show all columns\n",
    "pd.set_option('display.max_rows', 200)\t\t\t\t# show all rows\n",
    "np.set_printoptions(threshold=sys.maxsize)\t\t\t# show arrays full\n",
    "pd.set_option(\"display.max_colwidth\", -1)\t\t\t# show a complete text in a cell\n",
    "from xlsxwriter.workbook import Workbook\t\t\t# CSV writing\n",
    "import csv\t\t\t\t\t\t\t\t\t\t\t# CSV writing\n",
    "import datetime\t\t\t\t\t\t\t\t\t\t# time conversions\n",
    "import random\t\t\t\t\t\t\t\t\t\t# randomchoice\n",
    "import sklearn\t\t\t\t\t\t\t\t\t\t# mutual information\n",
    "from sklearn.ensemble import RandomForestClassifier\t# random forest\n",
    "from sklearn import linear_model\t\t\t\t\t# linear regression"
   ]
  },
  {
   "cell_type": "code",
   "execution_count": 2,
   "metadata": {},
   "outputs": [],
   "source": [
    "# Read CSV\n",
    "\n",
    "df = pd.read_csv('df.csv')"
   ]
  },
  {
   "cell_type": "markdown",
   "metadata": {},
   "source": [
    "# 1- Data Profiling and Exploratory Analysis\n",
    "\n",
    "The purpose is to see what's going on inside of our table"
   ]
  },
  {
   "cell_type": "code",
   "execution_count": 613,
   "metadata": {},
   "outputs": [],
   "source": [
    "# I used the following commands to get to know with data.\n",
    "# I will delete the output to make the notebook neater and simpler.\n",
    "\n",
    "# df.head(50)\t\t\t\t\t\t# show 50 first rows \n",
    "# df.sample(50)\t\t\t\t\t\t# show 50 sample rows\n",
    "# df.tail(50)\t\t\t\t\t\t# show 50 last rows"
   ]
  },
  {
   "cell_type": "code",
   "execution_count": 3,
   "metadata": {},
   "outputs": [
    {
     "name": "stdout",
     "output_type": "stream",
     "text": [
      "<class 'pandas.core.frame.DataFrame'>\n",
      "RangeIndex: 400165 entries, 0 to 400164\n",
      "Data columns (total 9 columns):\n",
      " #   Column           Non-Null Count   Dtype  \n",
      "---  ------           --------------   -----  \n",
      " 0   uuid             400165 non-null  object \n",
      " 1   timestamp        400165 non-null  float64\n",
      " 2   session_id       400165 non-null  object \n",
      " 3   group            400165 non-null  object \n",
      " 4   action           400165 non-null  object \n",
      " 5   checkin          223824 non-null  float64\n",
      " 6   page_id          400165 non-null  object \n",
      " 7   n_results        136234 non-null  float64\n",
      " 8   result_position  230482 non-null  float64\n",
      "dtypes: float64(4), object(5)\n",
      "memory usage: 27.5+ MB\n"
     ]
    }
   ],
   "source": [
    "# type and non-values and columns described\n",
    "\n",
    "df.info()"
   ]
  },
  {
   "cell_type": "code",
   "execution_count": 4,
   "metadata": {},
   "outputs": [
    {
     "data": {
      "text/html": [
       "<div>\n",
       "<style scoped>\n",
       "    .dataframe tbody tr th:only-of-type {\n",
       "        vertical-align: middle;\n",
       "    }\n",
       "\n",
       "    .dataframe tbody tr th {\n",
       "        vertical-align: top;\n",
       "    }\n",
       "\n",
       "    .dataframe thead th {\n",
       "        text-align: right;\n",
       "    }\n",
       "</style>\n",
       "<table border=\"1\" class=\"dataframe\">\n",
       "  <thead>\n",
       "    <tr style=\"text-align: right;\">\n",
       "      <th></th>\n",
       "      <th>timestamp</th>\n",
       "      <th>checkin</th>\n",
       "      <th>n_results</th>\n",
       "      <th>result_position</th>\n",
       "    </tr>\n",
       "  </thead>\n",
       "  <tbody>\n",
       "    <tr>\n",
       "      <th>count</th>\n",
       "      <td>4.001650e+05</td>\n",
       "      <td>223824.000000</td>\n",
       "      <td>136234.000000</td>\n",
       "      <td>230482.000000</td>\n",
       "    </tr>\n",
       "    <tr>\n",
       "      <th>mean</th>\n",
       "      <td>2.016030e+13</td>\n",
       "      <td>97.190382</td>\n",
       "      <td>13.210109</td>\n",
       "      <td>2.992798</td>\n",
       "    </tr>\n",
       "    <tr>\n",
       "      <th>std</th>\n",
       "      <td>2.340996e+06</td>\n",
       "      <td>104.593714</td>\n",
       "      <td>13.271104</td>\n",
       "      <td>38.557292</td>\n",
       "    </tr>\n",
       "    <tr>\n",
       "      <th>min</th>\n",
       "      <td>2.016030e+13</td>\n",
       "      <td>10.000000</td>\n",
       "      <td>0.000000</td>\n",
       "      <td>1.000000</td>\n",
       "    </tr>\n",
       "    <tr>\n",
       "      <th>25%</th>\n",
       "      <td>2.016030e+13</td>\n",
       "      <td>20.000000</td>\n",
       "      <td>2.000000</td>\n",
       "      <td>1.000000</td>\n",
       "    </tr>\n",
       "    <tr>\n",
       "      <th>50%</th>\n",
       "      <td>2.016030e+13</td>\n",
       "      <td>50.000000</td>\n",
       "      <td>20.000000</td>\n",
       "      <td>1.000000</td>\n",
       "    </tr>\n",
       "    <tr>\n",
       "      <th>75%</th>\n",
       "      <td>2.016031e+13</td>\n",
       "      <td>150.000000</td>\n",
       "      <td>20.000000</td>\n",
       "      <td>2.000000</td>\n",
       "    </tr>\n",
       "    <tr>\n",
       "      <th>max</th>\n",
       "      <td>2.016031e+13</td>\n",
       "      <td>420.000000</td>\n",
       "      <td>500.000000</td>\n",
       "      <td>4103.000000</td>\n",
       "    </tr>\n",
       "  </tbody>\n",
       "</table>\n",
       "</div>"
      ],
      "text/plain": [
       "          timestamp        checkin      n_results  result_position\n",
       "count  4.001650e+05  223824.000000  136234.000000  230482.000000  \n",
       "mean   2.016030e+13  97.190382      13.210109      2.992798       \n",
       "std    2.340996e+06  104.593714     13.271104      38.557292      \n",
       "min    2.016030e+13  10.000000      0.000000       1.000000       \n",
       "25%    2.016030e+13  20.000000      2.000000       1.000000       \n",
       "50%    2.016030e+13  50.000000      20.000000      1.000000       \n",
       "75%    2.016031e+13  150.000000     20.000000      2.000000       \n",
       "max    2.016031e+13  420.000000     500.000000     4103.000000    "
      ]
     },
     "execution_count": 4,
     "metadata": {},
     "output_type": "execute_result"
    }
   ],
   "source": [
    "# statistics insights\n",
    "\n",
    "df.describe()"
   ]
  },
  {
   "cell_type": "code",
   "execution_count": 5,
   "metadata": {},
   "outputs": [],
   "source": [
    "# UUID has generated randomly and assigned to each event so we don't need it.\n",
    "\n",
    "df.drop(columns=['uuid'], inplace=True)"
   ]
  },
  {
   "cell_type": "code",
   "execution_count": 6,
   "metadata": {
    "scrolled": true
   },
   "outputs": [],
   "source": [
    "# Let's convert a time stamp to a datatype\n",
    "\n",
    "df['timestamp'] = pd.to_datetime(df['timestamp'].astype(str).str[:14])"
   ]
  },
  {
   "cell_type": "code",
   "execution_count": 7,
   "metadata": {
    "scrolled": true
   },
   "outputs": [],
   "source": [
    "# We are dealing with many sessions which lies on a sequence so we need to sort it. The reason is that we can make good use of \n",
    "# table content + sequential indexes for further analysis.\n",
    "\n",
    "df = df.sort_values(['session_id', 'timestamp'])"
   ]
  },
  {
   "cell_type": "code",
   "execution_count": 8,
   "metadata": {
    "scrolled": true
   },
   "outputs": [],
   "source": [
    "# indexes must be sorted as well.\n",
    "\n",
    "df = df.reset_index(drop=True)"
   ]
  },
  {
   "cell_type": "code",
   "execution_count": 9,
   "metadata": {},
   "outputs": [
    {
     "data": {
      "text/plain": [
       "b254341e78af2f1a    484\n",
       "593638dbb24d903a    305\n",
       "549c7d24637bc68c    250\n",
       "4264985570c2b41d    234\n",
       "b1b9ad0b289027e1    223\n",
       "                   ... \n",
       "223ede42072bb862    1  \n",
       "0d7ec49874d59263    1  \n",
       "54a93a7eac6ea0b3    1  \n",
       "9182fc3c69f6cc43    1  \n",
       "415bf62c55c9390d    1  \n",
       "Name: session_id, Length: 68028, dtype: int64"
      ]
     },
     "execution_count": 9,
     "metadata": {},
     "output_type": "execute_result"
    }
   ],
   "source": [
    "df['session_id'].value_counts(dropna=False, ascending=False)\n",
    "\n",
    "# It seems some users had more interactions compare to others"
   ]
  },
  {
   "cell_type": "code",
   "execution_count": 10,
   "metadata": {},
   "outputs": [
    {
     "name": "stdout",
     "output_type": "stream",
     "text": [
      "A: 74.7%\n",
      "B: 25.3%\n"
     ]
    },
    {
     "data": {
      "image/png": "[encoded data removed]",
      "text/plain": [
       "<Figure size 432x288 with 1 Axes>"
      ]
     },
     "metadata": {},
     "output_type": "display_data"
    }
   ],
   "source": [
    "df['group'].value_counts().plot(kind='pie')\n",
    "plt.xlabel('Group A and B distribution')\n",
    "plt.legend(loc='upper right')\n",
    "print('A: ',round(df['group'].value_counts(normalize=True)*100, 1)[0],'%', sep = '')\n",
    "print('B: ',round(df['group'].value_counts(normalize=True)*100, 1)[1],'%', sep = '')\n",
    "\n",
    "# Does it mean the user interaction in group A is higher? Or just a higher incidents? Is it sensible that the traffic\n",
    "# was not distributed evenly or nearly even? We'll see!"
   ]
  },
  {
   "cell_type": "code",
   "execution_count": 623,
   "metadata": {
    "scrolled": true
   },
   "outputs": [
    {
     "name": "stdout",
     "output_type": "stream",
     "text": [
      "Specify the number of sampling: 5\n",
      "Specify the \"K\" parameter for random choice: 1000\n",
      "Sample 1 : variate b = 60.5 % and  variate a = 39.5 %\n",
      "Sample 2 : variate b = 59.2 % and  variate a = 40.8 %\n",
      "Sample 3 : variate b = 57.4 % and  variate a = 42.6 %\n",
      "Sample 4 : variate b = 55.7 % and  variate a = 44.3 %\n",
      "Sample 5 : variate b = 59.8 % and  variate a = 40.2 %\n"
     ]
    }
   ],
   "source": [
    "# Let's see if traffic for our variates A and B test was distributed evenly by filtering each session and counting \n",
    "# the number of unique A and B\n",
    "\n",
    "user = int(input ('Specify the number of sampling: '))               # Suggestion: 3\n",
    "k = int(input ('Specify the \\\"K\\\" parameter for random choice: '))   # Suggestion: 1000\n",
    "for sample in range(1, user+1):\n",
    "    \n",
    "    group_counts = pd.DataFrame(data={'Variate':['']}, columns=['Variate'])\n",
    "    search = random.choices(df['session_id'].unique(), k=k)\n",
    "    index = 0\n",
    "    for session_id in search:\n",
    "        group_counts.at[index, 'Variate'] = df.loc[df['session_id'] == session_id]['group'].unique().sum()\n",
    "        index = index + 1\n",
    "    \n",
    "    print('Sample',sample, ':', 'variate b =', round(group_counts['Variate'].value_counts(normalize=True)*100, 1)['b'],'%',\n",
    "          'and',' variate a =', round(group_counts['Variate'].value_counts(normalize=True)*100, 1)['a'],'%')\n"
   ]
  },
  {
   "cell_type": "markdown",
   "metadata": {},
   "source": [
    "In fact, traffic was passed to variate B a little bit more than A. But quite close to each other.\n",
    "\n",
    "Based on the above investigation, now we know that even though B traffic is higher than A (probably 58% to 42%), but the user interaction in case of A is higher ( due to the higher number of events in total). A variate absorbed more user interaction than B despite getting less traffic."
   ]
  },
  {
   "cell_type": "code",
   "execution_count": 11,
   "metadata": {},
   "outputs": [
    {
     "data": {
      "text/plain": [
       "checkin             223824\n",
       "searchResultPage    136234\n",
       "visitPage           40107 \n",
       "Name: action, dtype: int64"
      ]
     },
     "execution_count": 11,
     "metadata": {},
     "output_type": "execute_result"
    }
   ],
   "source": [
    "# Next feature is action.\n",
    "\n",
    "df['action'].value_counts(dropna=False, ascending=False)"
   ]
  },
  {
   "cell_type": "code",
   "execution_count": 12,
   "metadata": {},
   "outputs": [
    {
     "data": {
      "image/png": "[encoded data removed]",
      "text/plain": [
       "<Figure size 432x288 with 1 Axes>"
      ]
     },
     "metadata": {
      "needs_background": "light"
     },
     "output_type": "display_data"
    }
   ],
   "source": [
    "# Let's visualize the next feature!\n",
    "\n",
    "df['checkin'].value_counts(dropna=True, ascending=False).plot(kind='bar');\n",
    "\n",
    "# Inside of 420 is also other times (360,300,...) So it seems obvious that we receive a nice curve diagram!"
   ]
  },
  {
   "cell_type": "code",
   "execution_count": 13,
   "metadata": {},
   "outputs": [
    {
     "data": {
      "text/plain": [
       "ffeae9d12ad83b25    24\n",
       "5776ccc6144ff777    20\n",
       "6ea77e97a39691d2    19\n",
       "6151bd29e99dae15    19\n",
       "e6fcfc833df5c687    19\n",
       "                    ..\n",
       "983c8e8714a7f885    1 \n",
       "85875c1871477245    1 \n",
       "fc350d4c5f613478    1 \n",
       "40c17aa9cc3242e5    1 \n",
       "384d4bf4e11de124    1 \n",
       "Name: page_id, Length: 176371, dtype: int64"
      ]
     },
     "execution_count": 13,
     "metadata": {},
     "output_type": "execute_result"
    }
   ],
   "source": [
    "df['page_id'].value_counts(dropna=False, ascending=False)\n",
    "\n",
    "# Anything special? some pages absorbed more interaction which means user had more checkin time"
   ]
  },
  {
   "cell_type": "code",
   "execution_count": 14,
   "metadata": {
    "scrolled": true
   },
   "outputs": [
    {
     "data": {
      "image/png": "[encoded data removed]",
      "text/plain": [
       "<Figure size 1008x360 with 1 Axes>"
      ]
     },
     "metadata": {
      "needs_background": "light"
     },
     "output_type": "display_data"
    }
   ],
   "source": [
    "# Histogram of search results for results more than 200 shows that it is not a normal distribution.\n",
    "\n",
    "fig, ax = plt.subplots(figsize=(14, 5))\n",
    "sns.distplot(df.loc[df['n_results'] > 200]['n_results']);"
   ]
  },
  {
   "cell_type": "code",
   "execution_count": 15,
   "metadata": {},
   "outputs": [
    {
     "data": {
      "image/png": "[encoded data removed]",
      "text/plain": [
       "<Figure size 1008x432 with 1 Axes>"
      ]
     },
     "metadata": {
      "needs_background": "light"
     },
     "output_type": "display_data"
    }
   ],
   "source": [
    "# Here we have the top 7 highest frequency of variable n_results. I assume 20 is the normal number of result in each page.\n",
    "# unfortunetly, we have lots of 0s which manifests itself later in ZRR index.\n",
    "\n",
    "df['n_results'].value_counts().loc[lambda x : x>2000].plot(kind='bar', figsize=(14,6), xlim=(0,10));"
   ]
  },
  {
   "cell_type": "code",
   "execution_count": 16,
   "metadata": {},
   "outputs": [
    {
     "data": {
      "text/plain": [
       "NaN       169683\n",
       "1.0       149354\n",
       "2.0       31779 \n",
       "3.0       16234 \n",
       "4.0       8698  \n",
       "5.0       5334  \n",
       "6.0       3943  \n",
       "7.0       2833  \n",
       "8.0       1775  \n",
       "10.0      1396  \n",
       "9.0       1380  \n",
       "12.0      1009  \n",
       "11.0      934   \n",
       "13.0      867   \n",
       "14.0      676   \n",
       "19.0      592   \n",
       "20.0      542   \n",
       "16.0      511   \n",
       "15.0      492   \n",
       "18.0      475   \n",
       "17.0      412   \n",
       "21.0      72    \n",
       "34.0      55    \n",
       "22.0      47    \n",
       "32.0      38    \n",
       "29.0      38    \n",
       "25.0      32    \n",
       "83.0      28    \n",
       "30.0      26    \n",
       "38.0      26    \n",
       "28.0      26    \n",
       "50.0      26    \n",
       "55.0      25    \n",
       "71.0      25    \n",
       "36.0      24    \n",
       "49.0      22    \n",
       "24.0      20    \n",
       "31.0      19    \n",
       "23.0      19    \n",
       "41.0      19    \n",
       "61.0      18    \n",
       "43.0      17    \n",
       "76.0      17    \n",
       "26.0      16    \n",
       "94.0      16    \n",
       "73.0      16    \n",
       "42.0      15    \n",
       "141.0     14    \n",
       "59.0      14    \n",
       "163.0     14    \n",
       "40.0      13    \n",
       "166.0     13    \n",
       "66.0      13    \n",
       "33.0      12    \n",
       "62.0      11    \n",
       "169.0     11    \n",
       "70.0      11    \n",
       "63.0      11    \n",
       "469.0     11    \n",
       "51.0      10    \n",
       "380.0     10    \n",
       "27.0      10    \n",
       "81.0      9     \n",
       "158.0     9     \n",
       "58.0      9     \n",
       "35.0      8     \n",
       "75.0      8     \n",
       "65.0      8     \n",
       "90.0      7     \n",
       "560.0     7     \n",
       "48.0      7     \n",
       "84.0      7     \n",
       "3972.0    7     \n",
       "105.0     7     \n",
       "80.0      7     \n",
       "92.0      7     \n",
       "4087.0    6     \n",
       "110.0     6     \n",
       "179.0     6     \n",
       "57.0      6     \n",
       "102.0     6     \n",
       "69.0      6     \n",
       "118.0     6     \n",
       "56.0      5     \n",
       "121.0     5     \n",
       "64.0      5     \n",
       "3895.0    5     \n",
       "487.0     4     \n",
       "223.0     4     \n",
       "54.0      4     \n",
       "114.0     4     \n",
       "52.0      4     \n",
       "416.0     4     \n",
       "129.0     4     \n",
       "37.0      4     \n",
       "130.0     4     \n",
       "46.0      4     \n",
       "492.0     4     \n",
       "95.0      4     \n",
       "391.0     4     \n",
       "385.0     4     \n",
       "103.0     3     \n",
       "174.0     3     \n",
       "47.0      3     \n",
       "106.0     3     \n",
       "67.0      3     \n",
       "136.0     3     \n",
       "44.0      3     \n",
       "107.0     3     \n",
       "151.0     3     \n",
       "109.0     3     \n",
       "526.0     3     \n",
       "185.0     3     \n",
       "198.0     3     \n",
       "100.0     3     \n",
       "531.0     2     \n",
       "72.0      2     \n",
       "111.0     2     \n",
       "88.0      2     \n",
       "155.0     2     \n",
       "104.0     2     \n",
       "82.0      2     \n",
       "257.0     2     \n",
       "273.0     2     \n",
       "131.0     2     \n",
       "86.0      2     \n",
       "180.0     2     \n",
       "134.0     2     \n",
       "172.0     2     \n",
       "211.0     2     \n",
       "79.0      2     \n",
       "194.0     2     \n",
       "98.0      2     \n",
       "414.0     2     \n",
       "60.0      2     \n",
       "222.0     1     \n",
       "245.0     1     \n",
       "415.0     1     \n",
       "472.0     1     \n",
       "193.0     1     \n",
       "126.0     1     \n",
       "112.0     1     \n",
       "418.0     1     \n",
       "108.0     1     \n",
       "561.0     1     \n",
       "123.0     1     \n",
       "344.0     1     \n",
       "74.0      1     \n",
       "122.0     1     \n",
       "533.0     1     \n",
       "389.0     1     \n",
       "3955.0    1     \n",
       "527.0     1     \n",
       "392.0     1     \n",
       "216.0     1     \n",
       "1044.0    1     \n",
       "132.0     1     \n",
       "168.0     1     \n",
       "203.0     1     \n",
       "4103.0    1     \n",
       "125.0     1     \n",
       "243.0     1     \n",
       "372.0     1     \n",
       "143.0     1     \n",
       "39.0      1     \n",
       "240.0     1     \n",
       "148.0     1     \n",
       "335.0     1     \n",
       "128.0     1     \n",
       "225.0     1     \n",
       "409.0     1     \n",
       "113.0     1     \n",
       "316.0     1     \n",
       "429.0     1     \n",
       "190.0     1     \n",
       "317.0     1     \n",
       "264.0     1     \n",
       "87.0      1     \n",
       "229.0     1     \n",
       "144.0     1     \n",
       "353.0     1     \n",
       "77.0      1     \n",
       "68.0      1     \n",
       "153.0     1     \n",
       "231.0     1     \n",
       "89.0      1     \n",
       "162.0     1     \n",
       "117.0     1     \n",
       "181.0     1     \n",
       "147.0     1     \n",
       "293.0     1     \n",
       "91.0      1     \n",
       "291.0     1     \n",
       "224.0     1     \n",
       "Name: result_position, dtype: int64"
      ]
     },
     "execution_count": 16,
     "metadata": {},
     "output_type": "execute_result"
    }
   ],
   "source": [
    "# Wow! it seems the majority of visitors love the first result! Isn't that the answer of Task2?!\n",
    "\n",
    "df['result_position'].value_counts(dropna=False, ascending=False)"
   ]
  },
  {
   "cell_type": "markdown",
   "metadata": {},
   "source": [
    "# 2- Data Validation"
   ]
  },
  {
   "cell_type": "code",
   "execution_count": 17,
   "metadata": {
    "scrolled": true
   },
   "outputs": [],
   "source": [
    "# Hypothesis1 (searchResultPage): According to the instruction, when action is searchResultPage, checkin and result_position\n",
    "# must be zero. Besides, n_results can't be null. So, let's evaluate that hypothesis\n",
    "\n",
    "dfh1 = df.loc[df['action'] == 'searchResultPage']"
   ]
  },
  {
   "cell_type": "code",
   "execution_count": 18,
   "metadata": {},
   "outputs": [
    {
     "data": {
      "text/plain": [
       "0.0"
      ]
     },
     "execution_count": 18,
     "metadata": {},
     "output_type": "execute_result"
    }
   ],
   "source": [
    "dfh1['checkin'].sum() + dfh1['result_position'].sum()"
   ]
  },
  {
   "cell_type": "code",
   "execution_count": 19,
   "metadata": {
    "scrolled": true
   },
   "outputs": [
    {
     "data": {
      "text/plain": [
       "False"
      ]
     },
     "execution_count": 19,
     "metadata": {},
     "output_type": "execute_result"
    }
   ],
   "source": [
    "dfh1['n_results'].isnull().any()\n",
    "\n",
    "# Seems we have no error here."
   ]
  },
  {
   "cell_type": "code",
   "execution_count": 20,
   "metadata": {},
   "outputs": [
    {
     "data": {
      "text/html": [
       "<div>\n",
       "<style scoped>\n",
       "    .dataframe tbody tr th:only-of-type {\n",
       "        vertical-align: middle;\n",
       "    }\n",
       "\n",
       "    .dataframe tbody tr th {\n",
       "        vertical-align: top;\n",
       "    }\n",
       "\n",
       "    .dataframe thead th {\n",
       "        text-align: right;\n",
       "    }\n",
       "</style>\n",
       "<table border=\"1\" class=\"dataframe\">\n",
       "  <thead>\n",
       "    <tr style=\"text-align: right;\">\n",
       "      <th></th>\n",
       "      <th>timestamp</th>\n",
       "      <th>session_id</th>\n",
       "      <th>group</th>\n",
       "      <th>action</th>\n",
       "      <th>checkin</th>\n",
       "      <th>page_id</th>\n",
       "      <th>n_results</th>\n",
       "      <th>result_position</th>\n",
       "    </tr>\n",
       "  </thead>\n",
       "  <tbody>\n",
       "    <tr>\n",
       "      <th>51</th>\n",
       "      <td>2016-03-03 16:57:04</td>\n",
       "      <td>0007b7f6b575feb6</td>\n",
       "      <td>a</td>\n",
       "      <td>visitPage</td>\n",
       "      <td>NaN</td>\n",
       "      <td>cd0830379a43b008</td>\n",
       "      <td>NaN</td>\n",
       "      <td>NaN</td>\n",
       "    </tr>\n",
       "    <tr>\n",
       "      <th>52</th>\n",
       "      <td>2016-03-03 16:57:06</td>\n",
       "      <td>0007b7f6b575feb6</td>\n",
       "      <td>a</td>\n",
       "      <td>visitPage</td>\n",
       "      <td>NaN</td>\n",
       "      <td>2cfc3647b762a0e6</td>\n",
       "      <td>NaN</td>\n",
       "      <td>NaN</td>\n",
       "    </tr>\n",
       "    <tr>\n",
       "      <th>240</th>\n",
       "      <td>2016-03-01 06:55:22</td>\n",
       "      <td>0024c4506bf92e1c</td>\n",
       "      <td>a</td>\n",
       "      <td>visitPage</td>\n",
       "      <td>NaN</td>\n",
       "      <td>ffd856e8e1e4bea8</td>\n",
       "      <td>NaN</td>\n",
       "      <td>NaN</td>\n",
       "    </tr>\n",
       "    <tr>\n",
       "      <th>329</th>\n",
       "      <td>2016-03-02 07:17:37</td>\n",
       "      <td>00317ffe60c93021</td>\n",
       "      <td>a</td>\n",
       "      <td>visitPage</td>\n",
       "      <td>NaN</td>\n",
       "      <td>edc17d5f9a082e37</td>\n",
       "      <td>NaN</td>\n",
       "      <td>NaN</td>\n",
       "    </tr>\n",
       "    <tr>\n",
       "      <th>333</th>\n",
       "      <td>2016-03-02 07:18:09</td>\n",
       "      <td>00317ffe60c93021</td>\n",
       "      <td>a</td>\n",
       "      <td>visitPage</td>\n",
       "      <td>NaN</td>\n",
       "      <td>3ed5e3ae70472ad0</td>\n",
       "      <td>NaN</td>\n",
       "      <td>NaN</td>\n",
       "    </tr>\n",
       "    <tr>\n",
       "      <th>...</th>\n",
       "      <td>...</td>\n",
       "      <td>...</td>\n",
       "      <td>...</td>\n",
       "      <td>...</td>\n",
       "      <td>...</td>\n",
       "      <td>...</td>\n",
       "      <td>...</td>\n",
       "      <td>...</td>\n",
       "    </tr>\n",
       "    <tr>\n",
       "      <th>399609</th>\n",
       "      <td>2016-03-02 07:05:32</td>\n",
       "      <td>ff90affc266b84f4</td>\n",
       "      <td>a</td>\n",
       "      <td>visitPage</td>\n",
       "      <td>NaN</td>\n",
       "      <td>4efc207cf1e9725f</td>\n",
       "      <td>NaN</td>\n",
       "      <td>NaN</td>\n",
       "    </tr>\n",
       "    <tr>\n",
       "      <th>399616</th>\n",
       "      <td>2016-03-02 07:06:41</td>\n",
       "      <td>ff90affc266b84f4</td>\n",
       "      <td>a</td>\n",
       "      <td>visitPage</td>\n",
       "      <td>NaN</td>\n",
       "      <td>8551c4a78bb04f47</td>\n",
       "      <td>NaN</td>\n",
       "      <td>NaN</td>\n",
       "    </tr>\n",
       "    <tr>\n",
       "      <th>399622</th>\n",
       "      <td>2016-03-02 07:07:38</td>\n",
       "      <td>ff90affc266b84f4</td>\n",
       "      <td>a</td>\n",
       "      <td>visitPage</td>\n",
       "      <td>NaN</td>\n",
       "      <td>c31e6b7eeb42d465</td>\n",
       "      <td>NaN</td>\n",
       "      <td>NaN</td>\n",
       "    </tr>\n",
       "    <tr>\n",
       "      <th>399914</th>\n",
       "      <td>2016-03-03 04:14:37</td>\n",
       "      <td>ffd88039c4b94be2</td>\n",
       "      <td>a</td>\n",
       "      <td>visitPage</td>\n",
       "      <td>NaN</td>\n",
       "      <td>3e474cf6fee9429f</td>\n",
       "      <td>NaN</td>\n",
       "      <td>NaN</td>\n",
       "    </tr>\n",
       "    <tr>\n",
       "      <th>400015</th>\n",
       "      <td>2016-03-01 08:15:47</td>\n",
       "      <td>ffe1be6af4a9b8bb</td>\n",
       "      <td>a</td>\n",
       "      <td>visitPage</td>\n",
       "      <td>NaN</td>\n",
       "      <td>ada44c318b0019d2</td>\n",
       "      <td>NaN</td>\n",
       "      <td>NaN</td>\n",
       "    </tr>\n",
       "  </tbody>\n",
       "</table>\n",
       "<p>6028 rows × 8 columns</p>\n",
       "</div>"
      ],
      "text/plain": [
       "                 timestamp        session_id group     action  checkin  \\\n",
       "51     2016-03-03 16:57:04  0007b7f6b575feb6  a     visitPage NaN        \n",
       "52     2016-03-03 16:57:06  0007b7f6b575feb6  a     visitPage NaN        \n",
       "240    2016-03-01 06:55:22  0024c4506bf92e1c  a     visitPage NaN        \n",
       "329    2016-03-02 07:17:37  00317ffe60c93021  a     visitPage NaN        \n",
       "333    2016-03-02 07:18:09  00317ffe60c93021  a     visitPage NaN        \n",
       "...                    ...               ... ..           ...  ..        \n",
       "399609 2016-03-02 07:05:32  ff90affc266b84f4  a     visitPage NaN        \n",
       "399616 2016-03-02 07:06:41  ff90affc266b84f4  a     visitPage NaN        \n",
       "399622 2016-03-02 07:07:38  ff90affc266b84f4  a     visitPage NaN        \n",
       "399914 2016-03-03 04:14:37  ffd88039c4b94be2  a     visitPage NaN        \n",
       "400015 2016-03-01 08:15:47  ffe1be6af4a9b8bb  a     visitPage NaN        \n",
       "\n",
       "                 page_id  n_results  result_position  \n",
       "51      cd0830379a43b008 NaN        NaN               \n",
       "52      2cfc3647b762a0e6 NaN        NaN               \n",
       "240     ffd856e8e1e4bea8 NaN        NaN               \n",
       "329     edc17d5f9a082e37 NaN        NaN               \n",
       "333     3ed5e3ae70472ad0 NaN        NaN               \n",
       "...                  ...  ..         ..               \n",
       "399609  4efc207cf1e9725f NaN        NaN               \n",
       "399616  8551c4a78bb04f47 NaN        NaN               \n",
       "399622  c31e6b7eeb42d465 NaN        NaN               \n",
       "399914  3e474cf6fee9429f NaN        NaN               \n",
       "400015  ada44c318b0019d2 NaN        NaN               \n",
       "\n",
       "[6028 rows x 8 columns]"
      ]
     },
     "execution_count": 20,
     "metadata": {},
     "output_type": "execute_result"
    }
   ],
   "source": [
    "# Hypothesis2 (visitPage): when action is visitPage, the checkin column is a number. But, it seems when action is \n",
    "# visitPage, result_position sometimes has a value and sometimes not. Is there any pattern behind that?\n",
    "\n",
    "df.loc[(df['action'] == 'visitPage') & (df['result_position'].isnull())]\n",
    "\n",
    "# Looking through session_id:0007b7f6b575feb6 as a random chice, it is clear that when the second click in the same SERP occurs,\n",
    "# Java wouldn't return the search position.\n",
    "# We can use this finding when subsequently we define CTR."
   ]
  },
  {
   "cell_type": "code",
   "execution_count": 21,
   "metadata": {},
   "outputs": [
    {
     "data": {
      "text/html": [
       "<div>\n",
       "<style scoped>\n",
       "    .dataframe tbody tr th:only-of-type {\n",
       "        vertical-align: middle;\n",
       "    }\n",
       "\n",
       "    .dataframe tbody tr th {\n",
       "        vertical-align: top;\n",
       "    }\n",
       "\n",
       "    .dataframe thead th {\n",
       "        text-align: right;\n",
       "    }\n",
       "</style>\n",
       "<table border=\"1\" class=\"dataframe\">\n",
       "  <thead>\n",
       "    <tr style=\"text-align: right;\">\n",
       "      <th></th>\n",
       "      <th>Total Nulls</th>\n",
       "      <th>Percent</th>\n",
       "    </tr>\n",
       "  </thead>\n",
       "  <tbody>\n",
       "    <tr>\n",
       "      <th>n_results</th>\n",
       "      <td>263931</td>\n",
       "      <td>66.0</td>\n",
       "    </tr>\n",
       "    <tr>\n",
       "      <th>checkin</th>\n",
       "      <td>176341</td>\n",
       "      <td>44.1</td>\n",
       "    </tr>\n",
       "    <tr>\n",
       "      <th>result_position</th>\n",
       "      <td>169683</td>\n",
       "      <td>42.4</td>\n",
       "    </tr>\n",
       "  </tbody>\n",
       "</table>\n",
       "</div>"
      ],
      "text/plain": [
       "                 Total Nulls  Percent\n",
       "n_results        263931       66.0   \n",
       "checkin          176341       44.1   \n",
       "result_position  169683       42.4   "
      ]
     },
     "execution_count": 21,
     "metadata": {},
     "output_type": "execute_result"
    }
   ],
   "source": [
    "# 6000 or so rows can't be a mistake. There must be a pattern behind that. Incidentally, let's see how many nun values exist\n",
    "\n",
    "total = df.isnull().sum().sort_values(ascending=False)\n",
    "percent = round((df.isnull().sum()/df.isnull().count()).sort_values(ascending=False)*100, 1)\n",
    "missing_data = pd.concat([total, percent], axis=1, keys=['Total Nulls', 'Percent'])\n",
    "missing_data.head(3)\n",
    "\n",
    "# We have a lot of null values but there is no problem for analyzing because not all values associated with all features.\n",
    "# In that case, we can try pivot and unpivot to change the structure of data.\n",
    "# Yet, I prefer to move forward with the same structure"
   ]
  },
  {
   "cell_type": "code",
   "execution_count": 22,
   "metadata": {},
   "outputs": [
    {
     "data": {
      "text/plain": [
       "True"
      ]
     },
     "execution_count": 22,
     "metadata": {},
     "output_type": "execute_result"
    }
   ],
   "source": [
    "# Dealing with null values: \n",
    "# 1- n_results: According to hypothesis 1 and 2, n_results is always is.null in case of (action = Checkin\n",
    "# | visitPage), and always not.null in case of SERP. Let's see if it's correct:\n",
    "\n",
    "df.loc[(df['n_results'].isnull())].shape[0] == (\n",
    "df.loc[(df['action'] == 'visitPage')].shape[0] + df.loc[(df['action'] == 'checkin')].shape[0])\n",
    "\n",
    "# True. Thus, we're not ganna take any furthur action."
   ]
  },
  {
   "cell_type": "code",
   "execution_count": 23,
   "metadata": {},
   "outputs": [
    {
     "data": {
      "text/plain": [
       "True"
      ]
     },
     "execution_count": 23,
     "metadata": {},
     "output_type": "execute_result"
    }
   ],
   "source": [
    "# 2- checkin: is null in case of (action = SERP | visitPage) beacuase it is about how much time the user has passed so only\n",
    "# related to action=checkin. Let's check it:\n",
    "\n",
    "df.loc[(df['checkin'].isnull())].shape[0] == (\n",
    "df.loc[(df['action'] == 'visitPage')].shape[0] + df.loc[(df['action'] == 'searchResultPage')].shape[0])\n",
    "\n",
    "# True. Thus, we're not ganna take any furthur action."
   ]
  },
  {
   "cell_type": "code",
   "execution_count": 24,
   "metadata": {},
   "outputs": [
    {
     "data": {
      "text/plain": [
       "NaN    136234\n",
       "Name: result_position, dtype: int64"
      ]
     },
     "execution_count": 24,
     "metadata": {},
     "output_type": "execute_result"
    }
   ],
   "source": [
    "# 3- result_position:\n",
    "# A: must be null in case of action=searchResultPage\n",
    "\n",
    "df.loc[df['action'] == 'searchResultPage']['result_position'].value_counts(dropna=False, ascending=False)\n",
    "\n",
    "# Based on the task description"
   ]
  },
  {
   "cell_type": "code",
   "execution_count": 25,
   "metadata": {},
   "outputs": [
    {
     "data": {
      "text/plain": [
       "visitPage    6028\n",
       "Name: action, dtype: int64"
      ]
     },
     "execution_count": 25,
     "metadata": {},
     "output_type": "execute_result"
    }
   ],
   "source": [
    "# 3- result_position:\n",
    "# B: 1- when check_in, n_results, and result_position all are null then action must be visitPage which denotes the second click \n",
    "# at the same query page.\n",
    "\n",
    "df.loc[(df['checkin'].isnull()) & (df['n_results'].isnull()) & (df['result_position'].isnull())]['action'].value_counts(dropna=False, ascending=False)\n",
    "\n",
    "# 6028 visits are in fact second-onwards clicks in the same query page."
   ]
  },
  {
   "cell_type": "code",
   "execution_count": 26,
   "metadata": {
    "scrolled": true
   },
   "outputs": [
    {
     "data": {
      "text/plain": [
       "checkin    27421\n",
       "Name: action, dtype: int64"
      ]
     },
     "execution_count": 26,
     "metadata": {},
     "output_type": "execute_result"
    }
   ],
   "source": [
    "# 3- result_position:\n",
    "# B: 2- Also when checkin.notnull & (n_results & result_position).isnull, then action must be checkin:\n",
    "\n",
    "df.loc[(df['checkin'].notnull()) & ((df['n_results'].isnull()) & (df['result_position'].isnull()))]['action'].value_counts(dropna=False, ascending=False)\n",
    "\n",
    "# In the end, we do not do anything with our null values"
   ]
  },
  {
   "cell_type": "code",
   "execution_count": 27,
   "metadata": {
    "scrolled": true
   },
   "outputs": [
    {
     "data": {
      "text/plain": [
       "10.0     31652\n",
       "20.0     26546\n",
       "30.0     23218\n",
       "40.0     20792\n",
       "50.0     18857\n",
       "60.0     17369\n",
       "90.0     14319\n",
       "120.0    12287\n",
       "150.0    10875\n",
       "180.0    9894 \n",
       "210.0    9137 \n",
       "240.0    8504 \n",
       "300.0    7458 \n",
       "360.0    6738 \n",
       "420.0    6178 \n",
       "Name: checkin, dtype: int64"
      ]
     },
     "execution_count": 27,
     "metadata": {},
     "output_type": "execute_result"
    }
   ],
   "source": [
    "# Outliers: We have 1 discrete and 2 continious numeric values\n",
    "\n",
    "df['checkin'].value_counts().sort_index(ascending=False).sort_values(ascending=False) \n",
    "\n",
    "# It seems many users sepnd so much time interacting with the website."
   ]
  },
  {
   "cell_type": "code",
   "execution_count": 28,
   "metadata": {
    "scrolled": true
   },
   "outputs": [
    {
     "data": {
      "text/plain": [
       "0.0      25127\n",
       "1.0      7457 \n",
       "2.0      4612 \n",
       "3.0      3208 \n",
       "4.0      2410 \n",
       "5.0      2051 \n",
       "6.0      1696 \n",
       "7.0      1468 \n",
       "8.0      1288 \n",
       "9.0      1155 \n",
       "10.0     964  \n",
       "11.0     1010 \n",
       "12.0     896  \n",
       "13.0     813  \n",
       "14.0     772  \n",
       "15.0     722  \n",
       "16.0     671  \n",
       "17.0     680  \n",
       "18.0     676  \n",
       "19.0     738  \n",
       "20.0     77411\n",
       "21.0     4    \n",
       "22.0     8    \n",
       "23.0     3    \n",
       "24.0     1    \n",
       "25.0     2    \n",
       "27.0     1    \n",
       "28.0     1    \n",
       "29.0     4    \n",
       "30.0     4    \n",
       "31.0     3    \n",
       "32.0     4    \n",
       "33.0     2    \n",
       "34.0     2    \n",
       "35.0     3    \n",
       "36.0     4    \n",
       "37.0     3    \n",
       "39.0     9    \n",
       "40.0     1    \n",
       "43.0     1    \n",
       "44.0     1    \n",
       "45.0     1    \n",
       "47.0     7    \n",
       "50.0     51   \n",
       "57.0     1    \n",
       "58.0     16   \n",
       "59.0     1    \n",
       "61.0     1    \n",
       "63.0     1    \n",
       "64.0     1    \n",
       "66.0     84   \n",
       "67.0     1    \n",
       "77.0     2    \n",
       "78.0     33   \n",
       "80.0     2    \n",
       "81.0     1    \n",
       "92.0     1    \n",
       "97.0     1    \n",
       "99.0     1    \n",
       "100.0    42   \n",
       "102.0    1    \n",
       "105.0    1    \n",
       "106.0    2    \n",
       "108.0    2    \n",
       "109.0    6    \n",
       "112.0    2    \n",
       "114.0    2    \n",
       "119.0    1    \n",
       "126.0    1    \n",
       "129.0    1    \n",
       "136.0    1    \n",
       "141.0    2    \n",
       "149.0    1    \n",
       "155.0    1    \n",
       "168.0    1    \n",
       "179.0    8    \n",
       "181.0    1    \n",
       "235.0    1    \n",
       "236.0    1    \n",
       "248.0    2    \n",
       "250.0    5    \n",
       "277.0    6    \n",
       "289.0    1    \n",
       "299.0    1    \n",
       "349.0    2    \n",
       "409.0    1    \n",
       "436.0    1    \n",
       "440.0    5    \n",
       "477.0    1    \n",
       "486.0    1    \n",
       "499.0    2    \n",
       "500.0    36   \n",
       "Name: n_results, dtype: int64"
      ]
     },
     "execution_count": 28,
     "metadata": {},
     "output_type": "execute_result"
    }
   ],
   "source": [
    "df['n_results'].value_counts().sort_index(ascending=True)\n",
    "\n",
    "# Results above 20 decreases in number significantly.\n",
    "# We will not drop anthing at the time being. When the analysis table has been generated, I will check outliers again."
   ]
  },
  {
   "cell_type": "code",
   "execution_count": 29,
   "metadata": {},
   "outputs": [
    {
     "data": {
      "text/plain": [
       "1.0       149354\n",
       "2.0       31779 \n",
       "3.0       16234 \n",
       "4.0       8698  \n",
       "5.0       5334  \n",
       "6.0       3943  \n",
       "7.0       2833  \n",
       "8.0       1775  \n",
       "9.0       1380  \n",
       "10.0      1396  \n",
       "11.0      934   \n",
       "12.0      1009  \n",
       "13.0      867   \n",
       "14.0      676   \n",
       "15.0      492   \n",
       "16.0      511   \n",
       "17.0      412   \n",
       "18.0      475   \n",
       "19.0      592   \n",
       "20.0      542   \n",
       "21.0      72    \n",
       "22.0      47    \n",
       "23.0      19    \n",
       "24.0      20    \n",
       "25.0      32    \n",
       "26.0      16    \n",
       "27.0      10    \n",
       "28.0      26    \n",
       "29.0      38    \n",
       "30.0      26    \n",
       "31.0      19    \n",
       "32.0      38    \n",
       "33.0      12    \n",
       "34.0      55    \n",
       "35.0      8     \n",
       "36.0      24    \n",
       "37.0      4     \n",
       "38.0      26    \n",
       "39.0      1     \n",
       "40.0      13    \n",
       "41.0      19    \n",
       "42.0      15    \n",
       "43.0      17    \n",
       "44.0      3     \n",
       "46.0      4     \n",
       "47.0      3     \n",
       "48.0      7     \n",
       "49.0      22    \n",
       "50.0      26    \n",
       "51.0      10    \n",
       "52.0      4     \n",
       "54.0      4     \n",
       "55.0      25    \n",
       "56.0      5     \n",
       "57.0      6     \n",
       "58.0      9     \n",
       "59.0      14    \n",
       "60.0      2     \n",
       "61.0      18    \n",
       "62.0      11    \n",
       "63.0      11    \n",
       "64.0      5     \n",
       "65.0      8     \n",
       "66.0      13    \n",
       "67.0      3     \n",
       "68.0      1     \n",
       "69.0      6     \n",
       "70.0      11    \n",
       "71.0      25    \n",
       "72.0      2     \n",
       "73.0      16    \n",
       "74.0      1     \n",
       "75.0      8     \n",
       "76.0      17    \n",
       "77.0      1     \n",
       "79.0      2     \n",
       "80.0      7     \n",
       "81.0      9     \n",
       "82.0      2     \n",
       "83.0      28    \n",
       "84.0      7     \n",
       "86.0      2     \n",
       "87.0      1     \n",
       "88.0      2     \n",
       "89.0      1     \n",
       "90.0      7     \n",
       "91.0      1     \n",
       "92.0      7     \n",
       "94.0      16    \n",
       "95.0      4     \n",
       "98.0      2     \n",
       "100.0     3     \n",
       "102.0     6     \n",
       "103.0     3     \n",
       "104.0     2     \n",
       "105.0     7     \n",
       "106.0     3     \n",
       "107.0     3     \n",
       "108.0     1     \n",
       "109.0     3     \n",
       "110.0     6     \n",
       "111.0     2     \n",
       "112.0     1     \n",
       "113.0     1     \n",
       "114.0     4     \n",
       "117.0     1     \n",
       "118.0     6     \n",
       "121.0     5     \n",
       "122.0     1     \n",
       "123.0     1     \n",
       "125.0     1     \n",
       "126.0     1     \n",
       "128.0     1     \n",
       "129.0     4     \n",
       "130.0     4     \n",
       "131.0     2     \n",
       "132.0     1     \n",
       "134.0     2     \n",
       "136.0     3     \n",
       "141.0     14    \n",
       "143.0     1     \n",
       "144.0     1     \n",
       "147.0     1     \n",
       "148.0     1     \n",
       "151.0     3     \n",
       "153.0     1     \n",
       "155.0     2     \n",
       "158.0     9     \n",
       "162.0     1     \n",
       "163.0     14    \n",
       "166.0     13    \n",
       "168.0     1     \n",
       "169.0     11    \n",
       "172.0     2     \n",
       "174.0     3     \n",
       "179.0     6     \n",
       "180.0     2     \n",
       "181.0     1     \n",
       "185.0     3     \n",
       "190.0     1     \n",
       "193.0     1     \n",
       "194.0     2     \n",
       "198.0     3     \n",
       "203.0     1     \n",
       "211.0     2     \n",
       "216.0     1     \n",
       "222.0     1     \n",
       "223.0     4     \n",
       "224.0     1     \n",
       "225.0     1     \n",
       "229.0     1     \n",
       "231.0     1     \n",
       "240.0     1     \n",
       "243.0     1     \n",
       "245.0     1     \n",
       "257.0     2     \n",
       "264.0     1     \n",
       "273.0     2     \n",
       "291.0     1     \n",
       "293.0     1     \n",
       "316.0     1     \n",
       "317.0     1     \n",
       "335.0     1     \n",
       "344.0     1     \n",
       "353.0     1     \n",
       "372.0     1     \n",
       "380.0     10    \n",
       "385.0     4     \n",
       "389.0     1     \n",
       "391.0     4     \n",
       "392.0     1     \n",
       "409.0     1     \n",
       "414.0     2     \n",
       "415.0     1     \n",
       "416.0     4     \n",
       "418.0     1     \n",
       "429.0     1     \n",
       "469.0     11    \n",
       "472.0     1     \n",
       "487.0     4     \n",
       "492.0     4     \n",
       "526.0     3     \n",
       "527.0     1     \n",
       "531.0     2     \n",
       "533.0     1     \n",
       "560.0     7     \n",
       "561.0     1     \n",
       "1044.0    1     \n",
       "3895.0    5     \n",
       "3955.0    1     \n",
       "3972.0    7     \n",
       "4087.0    6     \n",
       "4103.0    1     \n",
       "Name: result_position, dtype: int64"
      ]
     },
     "execution_count": 29,
     "metadata": {},
     "output_type": "execute_result"
    }
   ],
   "source": [
    "df['result_position'].value_counts().sort_index(ascending=True)\n",
    "\n",
    "# No one visits the middle pages!"
   ]
  },
  {
   "cell_type": "code",
   "execution_count": 30,
   "metadata": {
    "scrolled": true
   },
   "outputs": [
    {
     "data": {
      "image/png": "[encoded data removed]",
      "text/plain": [
       "<Figure size 1008x432 with 1 Axes>"
      ]
     },
     "metadata": {
      "needs_background": "light"
     },
     "output_type": "display_data"
    },
    {
     "data": {
      "image/png": "[encoded data removed]",
      "text/plain": [
       "<Figure size 1008x432 with 1 Axes>"
      ]
     },
     "metadata": {
      "needs_background": "light"
     },
     "output_type": "display_data"
    },
    {
     "data": {
      "image/png": "[encoded data removed]",
      "text/plain": [
       "<Figure size 1008x432 with 1 Axes>"
      ]
     },
     "metadata": {
      "needs_background": "light"
     },
     "output_type": "display_data"
    }
   ],
   "source": [
    "# Boxplot is one of the best way to visually identify the outliers.\n",
    "\n",
    "df['checkin'].plot(kind='box', vert=False, figsize=(14,6));\n",
    "plt.show()\n",
    "df['n_results'].plot(kind='box', vert=False, figsize=(14,6));\n",
    "plt.show()\n",
    "df['result_position'].plot(kind='box', vert=False, figsize=(14,6));\n",
    "plt.show()"
   ]
  },
  {
   "cell_type": "markdown",
   "metadata": {},
   "source": [
    "Regarding the above insights and contemplating at the data, we may need to clean data based on 4 hypothesis which you can see the elaborated version of that. Also, some of the session lengths, which will be genrated later, have appeard to be prolonged for hours and even days which needs furthur attention. However, I will deal with them and any possible outliers or abnormality after having had the analysis table generated."
   ]
  },
  {
   "cell_type": "markdown",
   "metadata": {},
   "source": [
    "**Caution**: Executing the following codes may take up to 90 minutes.\n",
    "In that case, I will provide a saved version of edited files in the 'generated' folder so that you can read that."
   ]
  },
  {
   "cell_type": "code",
   "execution_count": 607,
   "metadata": {
    "scrolled": true
   },
   "outputs": [
    {
     "name": "stdout",
     "output_type": "stream",
     "text": [
      "H6: In session  012460df6605630a , user has clicked on a query link greater than the number of query results\n",
      "H3: Session  02c84fec821e9425  has no searchResultPage\n",
      "H3: Session  047d34f72f1f85f3  has no searchResultPage\n",
      "H4: Session  047efe2c6f738e34  has no visitPage despite having checkin\n",
      "H6: In session  0705f6124671c837 , user has clicked on a query link greater than the number of query results\n",
      "H6: In session  07d1244fb0ecfa18 , user has clicked on a query link greater than the number of query results\n",
      "H6: In session  0d050fd8343f9ab7 , user has clicked on a query link greater than the number of query results\n",
      "H3: Session  0d23d7759b20b298  has no searchResultPage\n",
      "H6: In session  0d6eb81512d879e9 , user has clicked on a query link greater than the number of query results\n",
      "H6: In session  0ec436cce82cfca8 , user has clicked on a query link greater than the number of query results\n",
      "H3: Session  1102ddf0e256b2bc  has no searchResultPage\n",
      "H6: In session  114e3fa48cc98264 , user has clicked on a query link greater than the number of query results\n",
      "H4: Session  117ba0044a11c901  has no visitPage despite having checkin\n",
      "H6: In session  12060c71917f4a7a , user has clicked on a query link greater than the number of query results\n",
      "H3: Session  15de5507e2880691  has no searchResultPage\n",
      "H3: Session  1679d261f4e6a9a9  has no searchResultPage\n",
      "H6: In session  184e0992a895248b , user has clicked on a query link greater than the number of query results\n",
      "H5: Session  1a9459a338122787  no indicating a number in result_position for first visitPage \n",
      "H3: Session  1b615319c6d3f18c  has no searchResultPage\n",
      "H6: In session  1c02fc90ce959df0 , user has clicked on a query link greater than the number of query results\n",
      "H3: Session  1c8cc0d1b39b6867  has no searchResultPage\n",
      "H3: Session  1d3fd653befc9672  has no searchResultPage\n",
      "H6: In session  1ded334052523cbc , user has clicked on a query link greater than the number of query results\n",
      "H6: In session  1e252f43757aed6d , user has clicked on a query link greater than the number of query results\n",
      "H6: In session  1ebcab1f76414e72 , user has clicked on a query link greater than the number of query results\n",
      "H6: In session  20a239212436786a , user has clicked on a query link greater than the number of query results\n",
      "H6: In session  21903520ce01b13b , user has clicked on a query link greater than the number of query results\n",
      "H6: In session  21c84ad5231c0b90 , user has clicked on a query link greater than the number of query results\n",
      "H3: Session  24ef7376a58a715d  has no searchResultPage\n",
      "H3: Session  25a12443fac4ccfa  has no searchResultPage\n",
      "H3: Session  26550c31de3a870d  has no searchResultPage\n",
      "H3: Session  26da57403690880a  has no searchResultPage\n",
      "H3: Session  3061fffb2d89eeb6  has no searchResultPage\n",
      "H3: Session  32acc0f3a4ae5da9  has no searchResultPage\n",
      "H3: Session  32edcb654a1dee57  has no searchResultPage\n",
      "H6: In session  32f0f81bda083f40 , user has clicked on a query link greater than the number of query results\n",
      "H3: Session  339abc9a8443a290  has no searchResultPage\n",
      "H3: Session  34ba1f4ed8fa8368  has no searchResultPage\n",
      "H6: In session  38564c3618a6580c , user has clicked on a query link greater than the number of query results\n",
      "H6: In session  39000c7c5983244f , user has clicked on a query link greater than the number of query results\n",
      "H4: Session  396fa423e3d9c28b  has no visitPage despite having checkin\n",
      "H6: In session  3ad9296ff3b2ce4c , user has clicked on a query link greater than the number of query results\n",
      "H3: Session  3c9796ac31581f3a  has no searchResultPage\n",
      "H6: In session  3de8e2e1824d0193 , user has clicked on a query link greater than the number of query results\n",
      "H4: Session  3eac2e373514ee33  has no visitPage despite having checkin\n",
      "H6: In session  3ec0815e085d6529 , user has clicked on a query link greater than the number of query results\n",
      "H6: In session  40d66d6de736c765 , user has clicked on a query link greater than the number of query results\n",
      "H6: In session  4264985570c2b41d , user has clicked on a query link greater than the number of query results\n",
      "H6: In session  426b242692d66473 , user has clicked on a query link greater than the number of query results\n",
      "H6: In session  43089586c6992a12 , user has clicked on a query link greater than the number of query results\n",
      "H3: Session  448dab3b57ef3a62  has no searchResultPage\n",
      "H6: In session  44945319a51f623c , user has clicked on a query link greater than the number of query results\n",
      "H3: Session  467dbc988bb90d2e  has no searchResultPage\n",
      "H4: Session  4906910584f55fd9  has no visitPage despite having checkin\n",
      "H3: Session  4ac21ce4cc934696  has no searchResultPage\n",
      "H3: Session  4bc183020218cf4e  has no searchResultPage\n",
      "H3: Session  4d57b0e24762e39f  has no searchResultPage\n",
      "H6: In session  4d9e866504189581 , user has clicked on a query link greater than the number of query results\n",
      "H6: In session  4db247d12c908eb7 , user has clicked on a query link greater than the number of query results\n",
      "H3: Session  4e08d4e417bbbf50  has no searchResultPage\n",
      "H3: Session  50721804122ed5c8  has no searchResultPage\n",
      "H4: Session  510236efa283fda9  has no visitPage despite having checkin\n",
      "H6: In session  531eff5a050b5c1f , user has clicked on a query link greater than the number of query results\n",
      "H4: Session  53894b3c35082604  has no visitPage despite having checkin\n",
      "H3: Session  53f0700b74193f19  has no searchResultPage\n",
      "H4: Session  555fd4c8499b53a9  has no visitPage despite having checkin\n",
      "H6: In session  5632c91c94a994a6 , user has clicked on a query link greater than the number of query results\n",
      "H3: Session  569c2464bb4c28fa  has no searchResultPage\n",
      "H6: In session  57fe6284daffa9b2 , user has clicked on a query link greater than the number of query results\n",
      "H3: Session  5bbbfc1a1e671cd8  has no searchResultPage\n",
      "H6: In session  5cd911a51593a318 , user has clicked on a query link greater than the number of query results\n",
      "H3: Session  5da91f59528edac0  has no searchResultPage\n",
      "H6: In session  5e0036c1b3bcd196 , user has clicked on a query link greater than the number of query results\n",
      "H3: Session  609d383ab9f34803  has no searchResultPage\n",
      "H6: In session  60bf1a2a47b4777e , user has clicked on a query link greater than the number of query results\n",
      "H3: Session  614eaa17120fe46b  has no searchResultPage\n",
      "H6: In session  62c2213a02069fc1 , user has clicked on a query link greater than the number of query results\n",
      "H6: In session  62d085518bfeb41d , user has clicked on a query link greater than the number of query results\n",
      "H4: Session  640821a0df2e4dff  has no visitPage despite having checkin\n",
      "H4: Session  6924dc2c4d454511  has no visitPage despite having checkin\n",
      "H3: Session  6a9ff317551ec33f  has no searchResultPage\n",
      "H3: Session  6aa422228699c353  has no searchResultPage\n",
      "H4: Session  6b535b5a2737b889  has no visitPage despite having checkin\n",
      "H6: In session  6cf581e0ebabc6c6 , user has clicked on a query link greater than the number of query results\n",
      "H6: In session  6e6a79b4af93431a , user has clicked on a query link greater than the number of query results\n",
      "H3: Session  709b2768f3d03eed  has no searchResultPage\n",
      "H6: In session  71de03c412ab4a47 , user has clicked on a query link greater than the number of query results\n",
      "H3: Session  72ace9bc94e57077  has no searchResultPage\n",
      "H6: In session  79db18518b5f59f8 , user has clicked on a query link greater than the number of query results\n",
      "H3: Session  7a801a259f824ff2  has no searchResultPage\n",
      "H3: Session  7b5926bbf45a661e  has no searchResultPage\n",
      "H6: In session  802227a5617ada1a , user has clicked on a query link greater than the number of query results\n",
      "H4: Session  805760314da2d052  has no visitPage despite having checkin\n",
      "H6: In session  809b4ceddb4dc24e , user has clicked on a query link greater than the number of query results\n",
      "H6: In session  8787b50524fe0440 , user has clicked on a query link greater than the number of query results\n",
      "H3: Session  892a223a63ffe17f  has no searchResultPage\n",
      "H3: Session  89681eddcd86fef2  has no searchResultPage\n",
      "H6: In session  8d01e48ad5509da1 , user has clicked on a query link greater than the number of query results\n",
      "H6: In session  8d2a05e3dc7e8369 , user has clicked on a query link greater than the number of query results\n",
      "H4: Session  8db0af1f437fe5c9  has no visitPage despite having checkin\n"
     ]
    },
    {
     "name": "stdout",
     "output_type": "stream",
     "text": [
      "H6: In session  8f50a4481d0233cc , user has clicked on a query link greater than the number of query results\n",
      "H4: Session  905f8682b6525bca  has no visitPage despite having checkin\n",
      "H3: Session  943517f6fcd5215f  has no searchResultPage\n",
      "H3: Session  943e0238a8f06402  has no searchResultPage\n",
      "H6: In session  98b20cee56346b8c , user has clicked on a query link greater than the number of query results\n",
      "H3: Session  9a6c5d8feebc2fcb  has no searchResultPage\n",
      "H3: Session  9e4d1f308be252b1  has no searchResultPage\n",
      "H3: Session  9ff940fcebe3d7d2  has no searchResultPage\n",
      "H3: Session  a24fab6b92cc34d1  has no searchResultPage\n",
      "H4: Session  a3ea33a6b553f5b4  has no visitPage despite having checkin\n",
      "H3: Session  a402d35577e2c8c6  has no searchResultPage\n",
      "H4: Session  a46aa30fb115dda9  has no visitPage despite having checkin\n",
      "H3: Session  a4f355f2f5afb218  has no searchResultPage\n",
      "H3: Session  a78453621939272e  has no searchResultPage\n",
      "H3: Session  a884beb2694f5f40  has no searchResultPage\n",
      "H4: Session  a913d71d11ab3c26  has no visitPage despite having checkin\n",
      "H6: In session  a9f773a93ffa309f , user has clicked on a query link greater than the number of query results\n",
      "H6: In session  aa1d76acbda37b39 , user has clicked on a query link greater than the number of query results\n",
      "H6: In session  aa8a9b0757f3b49a , user has clicked on a query link greater than the number of query results\n",
      "H3: Session  aa955a1b7a2f95b7  has no searchResultPage\n",
      "H6: In session  aaa45c36d7cb3956 , user has clicked on a query link greater than the number of query results\n",
      "H4: Session  b229a3c7a9aa6ac6  has no visitPage despite having checkin\n",
      "H6: In session  b25955fe3d260590 , user has clicked on a query link greater than the number of query results\n",
      "H4: Session  b2d0c987b6858b93  has no visitPage despite having checkin\n",
      "H6: In session  b3a2ea2f755db679 , user has clicked on a query link greater than the number of query results\n",
      "H6: In session  b66957f19afd4a60 , user has clicked on a query link greater than the number of query results\n",
      "H3: Session  b79b13f8918ab6a8  has no searchResultPage\n",
      "H3: Session  b9e2b9ba5f29eaba  has no searchResultPage\n",
      "H6: In session  ba74c86f107c2048 , user has clicked on a query link greater than the number of query results\n",
      "H6: In session  bdfbba90acf91b4c , user has clicked on a query link greater than the number of query results\n",
      "H3: Session  bee29e6a5822a906  has no searchResultPage\n",
      "H3: Session  c10f87cc3031003e  has no searchResultPage\n",
      "H6: In session  c1de29b8c2117562 , user has clicked on a query link greater than the number of query results\n",
      "H3: Session  c1f0f8499c6655cd  has no searchResultPage\n",
      "H3: Session  c346f791567e37ea  has no searchResultPage\n",
      "H3: Session  c3e9ea30c4d9cc14  has no searchResultPage\n",
      "H6: In session  c52c8b4e3a7f33c4 , user has clicked on a query link greater than the number of query results\n",
      "H3: Session  c8769c8dd3a4dd1c  has no searchResultPage\n",
      "H6: In session  c87ebed483880c25 , user has clicked on a query link greater than the number of query results\n",
      "H4: Session  cbba9a98ba7b20cc  has no visitPage despite having checkin\n",
      "H6: In session  cc35996cc4d3a3cb , user has clicked on a query link greater than the number of query results\n",
      "H3: Session  cd17dbcb47518869  has no searchResultPage\n",
      "H6: In session  cd1dd61522728346 , user has clicked on a query link greater than the number of query results\n",
      "H4: Session  ce00faa03fe598bf  has no visitPage despite having checkin\n",
      "H3: Session  cff3b4c4b390330b  has no searchResultPage\n",
      "H3: Session  d1759a6ea17d0e98  has no searchResultPage\n",
      "H6: In session  d6262c74619d6830 , user has clicked on a query link greater than the number of query results\n",
      "H3: Session  d6bc751925b4a73e  has no searchResultPage\n",
      "H4: Session  d72735d4035c3b0b  has no visitPage despite having checkin\n",
      "H3: Session  d925d9ef94267b3b  has no searchResultPage\n",
      "H6: In session  dacbd4fa458172e3 , user has clicked on a query link greater than the number of query results\n",
      "H4: Session  dae456abb6fc8624  has no visitPage despite having checkin\n",
      "H4: Session  dd1a7ae8e45621a5  has no visitPage despite having checkin\n",
      "H3: Session  dd468d1f20c2b5a0  has no searchResultPage\n",
      "H3: Session  e0a4a1cf510546cc  has no searchResultPage\n",
      "H6: In session  e0e8aac1a9fcf612 , user has clicked on a query link greater than the number of query results\n",
      "H3: Session  e0eb1b2a1ca28cfd  has no searchResultPage\n",
      "H3: Session  e27e778a6171e8cf  has no searchResultPage\n",
      "H6: In session  e408f661309b14e5 , user has clicked on a query link greater than the number of query results\n",
      "H3: Session  e55074d674e2755c  has no searchResultPage\n",
      "H4: Session  e6019e310ab1259d  has no visitPage despite having checkin\n",
      "H4: Session  e68f6566508c455a  has no visitPage despite having checkin\n",
      "H3: Session  eaf40f033a3a764e  has no searchResultPage\n",
      "H4: Session  ebb0e4d22808df78  has no visitPage despite having checkin\n",
      "H6: In session  ec4129fa787eb4e4 , user has clicked on a query link greater than the number of query results\n",
      "H3: Session  ed191a5c7f508748  has no searchResultPage\n",
      "H6: In session  ee392fdeb80aa177 , user has clicked on a query link greater than the number of query results\n",
      "H6: In session  f14ae45c8e0fc6f9 , user has clicked on a query link greater than the number of query results\n",
      "H6: In session  f1d21c90cb86457c , user has clicked on a query link greater than the number of query results\n",
      "H3: Session  f27c93794f849a36  has no searchResultPage\n",
      "H3: Session  f2ad804c5ca9238d  has no searchResultPage\n",
      "H6: In session  f41055144d08695a , user has clicked on a query link greater than the number of query results\n",
      "H6: In session  f511120b3f91d411 , user has clicked on a query link greater than the number of query results\n",
      "H3: Session  f554c9468584af94  has no searchResultPage\n",
      "H3: Session  f815fdca2c79bcb1  has no searchResultPage\n",
      "H3: Session  fad787967e0b5e86  has no searchResultPage\n",
      "H3: Session  fc7753566bb51737  has no searchResultPage\n",
      "H6: In session  fcf5df15e93b0ee5 , user has clicked on a query link greater than the number of query results\n"
     ]
    }
   ],
   "source": [
    "# Hypothesis 3: all the session_ids should have an observation including action=searchResultPage\n",
    "# Hypothesis 4: now let's check if a session_id has a checkin time but doesn't have a action=visitPage\n",
    "# Hypothesis 5: the first appearance of visitpage must indicate a number in result_position\n",
    "# Hypothesis 6: Visited link position from query cannot be greater than the number of searches generated in one index before.\n",
    "\n",
    "index=0\n",
    "for session_id in df['session_id'].unique()[1:]:\n",
    "    \n",
    "    #H3\n",
    "    if (df.loc[(df['session_id'] == session_id)]['action'] == 'searchResultPage').sum() == 0 :\n",
    "        print('H3: Session ',session_id, ' has no searchResultPage')\n",
    "        df.drop(df.loc[df['session_id'] == session_id].index, inplace=True)\n",
    "    \n",
    "    #H4\n",
    "    elif (df.loc[(df['session_id'] == session_id)]['checkin'].sum() > 0) & ((df.loc[(df['session_id'] == session_id)]['action'] == 'visitPage').sum() == 0):\n",
    "        print('H4: Session ',session_id, ' has no visitPage despite having checkin')\n",
    "        df.drop(df.loc[df['session_id'] == session_id].index, inplace=True)\n",
    "    \n",
    "    #H5\n",
    "    elif ((df.loc[(df['session_id'] == session_id) & (df['action'] == 'visitPage')]).head(1)['result_position'].isnull().sum() == 1) == True:\n",
    "        print('H5: Session ',session_id, ' no indicating a number in result_position for first visitPage ')\n",
    "        df.drop(df.loc[df['session_id'] == session_id].index, inplace=True)\n",
    "    \n",
    "    #H6\n",
    "    elif (df.loc[df['session_id'] == session_id]['action'] == 'visitPage').sum() > 0:\n",
    "        if df.loc[(df['session_id'] == session_id) & ((df['action'] == 'visitPage' ) & (df['result_position'].notnull()))].head(1)['result_position'].sum() > df.loc[df.loc[(df['session_id'] == session_id) & ((df['action'] == 'visitPage' ) & (df['result_position'].notnull()))].head(1).index[0]-1,'n_results']:    \n",
    "            print('H6: In session ',session_id, ', user has clicked on a query link greater than the number of query results')\n",
    "            df.drop(df.loc[df['session_id'] == session_id].index, inplace=True)\n",
    "        \n",
    "index= index + 1   \n",
    "\n",
    "# The ouput(session_id(s)) were randomly checked by R Markdown at the time it was being executed to ensure the viability\n",
    "# and correctness of the code."
   ]
  },
  {
   "cell_type": "code",
   "execution_count": 608,
   "metadata": {},
   "outputs": [],
   "source": [
    "# Please do not run this code\n",
    "\n",
    "# df.to_csv('dfgenerated1.csv', index=None)"
   ]
  },
  {
   "cell_type": "code",
   "execution_count": 31,
   "metadata": {},
   "outputs": [],
   "source": [
    "# Read from the hard if you haven't executed previous code(hypothesis) completely.\n",
    "\n",
    "df = pd.read_csv('dfgenerated1.csv')\n",
    "df['timestamp'] = pd.to_datetime(df['timestamp'])"
   ]
  },
  {
   "cell_type": "code",
   "execution_count": 32,
   "metadata": {},
   "outputs": [
    {
     "data": {
      "text/plain": [
       "397537"
      ]
     },
     "execution_count": 32,
     "metadata": {},
     "output_type": "execute_result"
    }
   ],
   "source": [
    "df.shape[0]\n",
    "\n",
    "# initial shape: 400165\n",
    "# after dropping: 397537\n",
    "# 400165 - 397537 = 2628 observations in total were deleted, around 0.6%"
   ]
  },
  {
   "cell_type": "markdown",
   "metadata": {},
   "source": [
    "# 3- Feature Engineering"
   ]
  },
  {
   "cell_type": "markdown",
   "metadata": {},
   "source": [
    "***It is not mandatory creating the analysis table to answer any of the above tasks. I just wanted to examine the possibility of new insights***"
   ]
  },
  {
   "cell_type": "markdown",
   "metadata": {},
   "source": [
    "**Caution**: Executing the following codes may take up to 4 hours.\n",
    "In that case, I will provide a saved version of edited files in the 'generated' folder so that you can read that."
   ]
  },
  {
   "cell_type": "code",
   "execution_count": 706,
   "metadata": {
    "scrolled": true
   },
   "outputs": [
    {
     "data": {
      "text/html": [
       "<div>\n",
       "<style scoped>\n",
       "    .dataframe tbody tr th:only-of-type {\n",
       "        vertical-align: middle;\n",
       "    }\n",
       "\n",
       "    .dataframe tbody tr th {\n",
       "        vertical-align: top;\n",
       "    }\n",
       "\n",
       "    .dataframe thead th {\n",
       "        text-align: right;\n",
       "    }\n",
       "</style>\n",
       "<table border=\"1\" class=\"dataframe\">\n",
       "  <thead>\n",
       "    <tr style=\"text-align: right;\">\n",
       "      <th></th>\n",
       "      <th>SessionId</th>\n",
       "      <th>Day</th>\n",
       "      <th>WeekDay</th>\n",
       "      <th>SessionLength</th>\n",
       "      <th>Group</th>\n",
       "      <th>VisitPageTotal</th>\n",
       "      <th>CheckInTimeTotal</th>\n",
       "      <th>SERPTotal</th>\n",
       "      <th>FirstClick</th>\n",
       "      <th>ZeroSearch</th>\n",
       "      <th>QueryTotal</th>\n",
       "      <th>CTR</th>\n",
       "      <th>ZRR</th>\n",
       "    </tr>\n",
       "  </thead>\n",
       "  <tbody>\n",
       "    <tr>\n",
       "      <th>0</th>\n",
       "      <td>0000cbcb67c19c45</td>\n",
       "      <td>3</td>\n",
       "      <td>Thursday</td>\n",
       "      <td>0</td>\n",
       "      <td>b</td>\n",
       "      <td>0</td>\n",
       "      <td>0</td>\n",
       "      <td>20</td>\n",
       "      <td>0</td>\n",
       "      <td>0</td>\n",
       "      <td>1</td>\n",
       "      <td>0</td>\n",
       "      <td>0</td>\n",
       "    </tr>\n",
       "    <tr>\n",
       "      <th>1</th>\n",
       "      <td>0001382e027b2ea4</td>\n",
       "      <td>7</td>\n",
       "      <td>Monday</td>\n",
       "      <td>303</td>\n",
       "      <td>b</td>\n",
       "      <td>1</td>\n",
       "      <td>300</td>\n",
       "      <td>18</td>\n",
       "      <td>1</td>\n",
       "      <td>0</td>\n",
       "      <td>1</td>\n",
       "      <td>1</td>\n",
       "      <td>0</td>\n",
       "    </tr>\n",
       "    <tr>\n",
       "      <th>2</th>\n",
       "      <td>0001e8bb90445cb2</td>\n",
       "      <td>5</td>\n",
       "      <td>Saturday</td>\n",
       "      <td>435</td>\n",
       "      <td>b</td>\n",
       "      <td>1</td>\n",
       "      <td>420</td>\n",
       "      <td>20</td>\n",
       "      <td>1</td>\n",
       "      <td>0</td>\n",
       "      <td>1</td>\n",
       "      <td>1</td>\n",
       "      <td>0</td>\n",
       "    </tr>\n",
       "    <tr>\n",
       "      <th>3</th>\n",
       "      <td>000216cf18ae1ab1</td>\n",
       "      <td>8</td>\n",
       "      <td>Tuesday</td>\n",
       "      <td>58</td>\n",
       "      <td>a</td>\n",
       "      <td>0</td>\n",
       "      <td>0</td>\n",
       "      <td>120</td>\n",
       "      <td>0</td>\n",
       "      <td>0</td>\n",
       "      <td>6</td>\n",
       "      <td>0</td>\n",
       "      <td>0</td>\n",
       "    </tr>\n",
       "    <tr>\n",
       "      <th>4</th>\n",
       "      <td>000527f711d50dfc</td>\n",
       "      <td>8</td>\n",
       "      <td>Tuesday</td>\n",
       "      <td>0</td>\n",
       "      <td>b</td>\n",
       "      <td>0</td>\n",
       "      <td>0</td>\n",
       "      <td>1</td>\n",
       "      <td>0</td>\n",
       "      <td>0</td>\n",
       "      <td>1</td>\n",
       "      <td>0</td>\n",
       "      <td>0</td>\n",
       "    </tr>\n",
       "    <tr>\n",
       "      <th>...</th>\n",
       "      <td>...</td>\n",
       "      <td>...</td>\n",
       "      <td>...</td>\n",
       "      <td>...</td>\n",
       "      <td>...</td>\n",
       "      <td>...</td>\n",
       "      <td>...</td>\n",
       "      <td>...</td>\n",
       "      <td>...</td>\n",
       "      <td>...</td>\n",
       "      <td>...</td>\n",
       "      <td>...</td>\n",
       "      <td>...</td>\n",
       "    </tr>\n",
       "    <tr>\n",
       "      <th>67845</th>\n",
       "      <td>fffa5a2bcaf090c4</td>\n",
       "      <td>3</td>\n",
       "      <td>Thursday</td>\n",
       "      <td>0</td>\n",
       "      <td>b</td>\n",
       "      <td>0</td>\n",
       "      <td>0</td>\n",
       "      <td>0</td>\n",
       "      <td>0</td>\n",
       "      <td>1</td>\n",
       "      <td>1</td>\n",
       "      <td>0</td>\n",
       "      <td>1</td>\n",
       "    </tr>\n",
       "    <tr>\n",
       "      <th>67846</th>\n",
       "      <td>fffa88acebf831c8</td>\n",
       "      <td>4</td>\n",
       "      <td>Friday</td>\n",
       "      <td>446</td>\n",
       "      <td>a</td>\n",
       "      <td>2</td>\n",
       "      <td>420</td>\n",
       "      <td>80</td>\n",
       "      <td>2</td>\n",
       "      <td>0</td>\n",
       "      <td>4</td>\n",
       "      <td>0.5</td>\n",
       "      <td>0</td>\n",
       "    </tr>\n",
       "    <tr>\n",
       "      <th>67847</th>\n",
       "      <td>fffac2c4111308d0</td>\n",
       "      <td>8</td>\n",
       "      <td>Tuesday</td>\n",
       "      <td>0</td>\n",
       "      <td>b</td>\n",
       "      <td>0</td>\n",
       "      <td>0</td>\n",
       "      <td>20</td>\n",
       "      <td>0</td>\n",
       "      <td>0</td>\n",
       "      <td>1</td>\n",
       "      <td>0</td>\n",
       "      <td>0</td>\n",
       "    </tr>\n",
       "    <tr>\n",
       "      <th>67848</th>\n",
       "      <td>fffb978cc690214c</td>\n",
       "      <td>1</td>\n",
       "      <td>Tuesday</td>\n",
       "      <td>176</td>\n",
       "      <td>b</td>\n",
       "      <td>1</td>\n",
       "      <td>150</td>\n",
       "      <td>40</td>\n",
       "      <td>1</td>\n",
       "      <td>0</td>\n",
       "      <td>2</td>\n",
       "      <td>0.5</td>\n",
       "      <td>0</td>\n",
       "    </tr>\n",
       "    <tr>\n",
       "      <th>67849</th>\n",
       "      <td>ffff9adcd8f302d6</td>\n",
       "      <td>7</td>\n",
       "      <td>Monday</td>\n",
       "      <td>327</td>\n",
       "      <td>a</td>\n",
       "      <td>1</td>\n",
       "      <td>60</td>\n",
       "      <td>109</td>\n",
       "      <td>1</td>\n",
       "      <td>0</td>\n",
       "      <td>7</td>\n",
       "      <td>0.14</td>\n",
       "      <td>0</td>\n",
       "    </tr>\n",
       "  </tbody>\n",
       "</table>\n",
       "<p>67850 rows × 13 columns</p>\n",
       "</div>"
      ],
      "text/plain": [
       "              SessionId Day   WeekDay  SessionLength Group VisitPageTotal  \\\n",
       "0      0000cbcb67c19c45  3   Thursday  0              b     0               \n",
       "1      0001382e027b2ea4  7   Monday    303            b     1               \n",
       "2      0001e8bb90445cb2  5   Saturday  435            b     1               \n",
       "3      000216cf18ae1ab1  8   Tuesday   58             a     0               \n",
       "4      000527f711d50dfc  8   Tuesday   0              b     0               \n",
       "...                 ... ..       ...  ..             ..    ..               \n",
       "67845  fffa5a2bcaf090c4  3   Thursday  0              b     0               \n",
       "67846  fffa88acebf831c8  4   Friday    446            a     2               \n",
       "67847  fffac2c4111308d0  8   Tuesday   0              b     0               \n",
       "67848  fffb978cc690214c  1   Tuesday   176            b     1               \n",
       "67849  ffff9adcd8f302d6  7   Monday    327            a     1               \n",
       "\n",
       "      CheckInTimeTotal SERPTotal FirstClick ZeroSearch QueryTotal   CTR ZRR  \n",
       "0      0                20        0          0          1          0     0   \n",
       "1      300              18        1          0          1          1     0   \n",
       "2      420              20        1          0          1          1     0   \n",
       "3      0                120       0          0          6          0     0   \n",
       "4      0                1         0          0          1          0     0   \n",
       "...   ..               ..        ..         ..         ..         ..    ..   \n",
       "67845  0                0         0          1          1          0     1   \n",
       "67846  420              80        2          0          4          0.5   0   \n",
       "67847  0                20        0          0          1          0     0   \n",
       "67848  150              40        1          0          2          0.5   0   \n",
       "67849  60               109       1          0          7          0.14  0   \n",
       "\n",
       "[67850 rows x 13 columns]"
      ]
     },
     "execution_count": 706,
     "metadata": {},
     "output_type": "execute_result"
    }
   ],
   "source": [
    "# Result table for addressing tasks and furthur analysis:\n",
    "\n",
    "# ---------------------------------------\n",
    "# SessionLength:    max - min of the events from the same session_id. Note: We can add a 5 seconds to estimate better \n",
    "# VisitPageTotal:   count of total pages visited per each session_id\n",
    "# CheckInTimeTotal: time spent by user to visit visited pages. Note: we do not consider visitPages without checkin time\n",
    "# SERPTotal:        total number of results generated by search engine\n",
    "# FirstClick:       number of first visited pages from each query\n",
    "# ZeroSearch:       count of incidents of searches yoielded zero\n",
    "# QueryTotal:       count of searches\n",
    "# CTR:              FirstClick divided by QueryTotal\n",
    "# ZRR:              ZeroSearch divided by QueryTotal\n",
    "# ---------------------------------------\n",
    "\n",
    "dfresult = pd.DataFrame(data={'SessionId':[''],'Day':[''],'WeekDay':[''],'SessionLength':[''],'Group':[''],'VisitPageTotal':[''],\n",
    "'CheckInTimeTotal':[''],'SERPTotal':[''], 'FirstClick':[''],'ZeroSearch':[''],'QueryTotal':[''],'CTR':[''],'ZRR':['']},\n",
    "columns=['SessionId','Day','WeekDay','SessionLength','Group','VisitPageTotal','CheckInTimeTotal','SERPTotal','FirstClick','ZeroSearch','QueryTotal','CTR','ZRR'])\n",
    "\n",
    "index = 0\n",
    "\n",
    "for session_id in df['session_id'].unique():\n",
    "    \n",
    "    dfresult.at[index, 'SessionId'] = session_id\n",
    "    \n",
    "    dfresult.at[index, 'Day'] = df.loc[df['session_id'] == session_id]['timestamp'].head(1).dt.day.sum()\n",
    "    \n",
    "    dfresult.at[index, 'WeekDay'] = df.loc[df['session_id'] == session_id]['timestamp'].head(1).dt.day_name().sum()\n",
    "     \n",
    "    dfresult.at[index, 'SessionLength'] = max(df.loc[df['session_id'] == session_id]['timestamp']) - min(df.loc[df['session_id'] == session_id]['timestamp'])\n",
    "    \n",
    "    dfresult.at[index, 'Group'] = df.loc[df['session_id'] == session_id]['group'].unique().sum()\n",
    "    \n",
    "    dfresult.at[index, 'VisitPageTotal'] = df.loc[(df['session_id'] == session_id) & (df['action'] == 'visitPage')].shape[0]\n",
    "    \n",
    "    checkinarray = df.loc[(df['session_id'] == session_id) & (df['checkin'].notnull())]['page_id'].unique()\n",
    "    i=0\n",
    "    a = [0] * 200\n",
    "    for checkinarray in checkinarray:   \n",
    "        a[i] = max(df.loc[((df['session_id'] == session_id) & (df['checkin'].notnull())) & (df['page_id'] == checkinarray)]['checkin'])\n",
    "        i= i+1\n",
    "    dfresult.at[index, 'CheckInTimeTotal'] = sum(a)\n",
    "    \n",
    "    dfresult.at[index, 'SERPTotal'] = df.loc[df['session_id'] == session_id]['n_results'].sum()\n",
    "    \n",
    "    dfresult.at[index, 'FirstClick'] = n_first_visitedpage = df.loc[((df['session_id'] == session_id) & (df['action'] == 'visitPage')) & (df['result_position'].notnull())].shape[0]\n",
    "    \n",
    "    dfresult.at[index, 'ZeroSearch'] = zero_results = df.loc[(df['session_id'] == session_id) & (df['n_results'] == 0)].shape[0]\n",
    "    \n",
    "    dfresult.at[index, 'QueryTotal'] = n_searches = df.loc[(df['session_id'] == session_id) & (df['action'] == 'searchResultPage')].shape[0]\n",
    "    \n",
    "    dfresult.at[index, 'CTR'] = round((n_first_visitedpage / n_searches), 2)\n",
    "    \n",
    "    dfresult.at[index, 'ZRR'] = round((zero_results / n_searches), 2)\n",
    "    \n",
    "    index = index + 1\n",
    "    \n",
    "    \n",
    "length = pd.to_datetime(dfresult['SessionLength'].astype(str).str[7:])\n",
    "dfresult['SessionLength'] = (dfresult['SessionLength'].astype(str).str[:1].astype(int))*86400 + (length.dt.hour)*3600 + (length.dt.minute)*60 + (length.dt.second)\n",
    "\n",
    "dfresult\n",
    "    "
   ]
  },
  {
   "cell_type": "code",
   "execution_count": 707,
   "metadata": {},
   "outputs": [],
   "source": [
    "# Please do not run this code\n",
    "\n",
    "# dfresult.to_csv('dfgenerated2.csv', index=None)"
   ]
  },
  {
   "cell_type": "code",
   "execution_count": 33,
   "metadata": {},
   "outputs": [],
   "source": [
    "# Read from the hard if you haven't executed previous code(Feature engineering) completely.\n",
    "\n",
    "dfresult = pd.read_csv('dfgenerated2.csv')"
   ]
  },
  {
   "cell_type": "markdown",
   "metadata": {},
   "source": [
    "# 4- Data mining & answering the tasks"
   ]
  },
  {
   "cell_type": "code",
   "execution_count": 35,
   "metadata": {
    "scrolled": true
   },
   "outputs": [
    {
     "name": "stdout",
     "output_type": "stream",
     "text": [
      "\u001b[1mVisitPageTotal:\n",
      "\u001b[0m34794    51\n",
      "47237    47\n",
      "30828    43\n",
      "44727    39\n",
      "19709    33\n",
      "63492    31\n",
      "41029    30\n",
      "43908    26\n",
      "46705    26\n",
      "33203    25\n",
      "Name: VisitPageTotal, dtype: int64\n",
      "\n"
     ]
    },
    {
     "data": {
      "image/png": "[encoded data removed]",
      "text/plain": [
       "<Figure size 1008x432 with 1 Axes>"
      ]
     },
     "metadata": {
      "needs_background": "light"
     },
     "output_type": "display_data"
    },
    {
     "name": "stdout",
     "output_type": "stream",
     "text": [
      "\u001b[1mCheckInTimeTotal:\n",
      "\u001b[0m52031    2310.0\n",
      "32841    2190.0\n",
      "18375    2100.0\n",
      "4133     1970.0\n",
      "6239     1890.0\n",
      "30828    1730.0\n",
      "19724    1700.0\n",
      "55008    1680.0\n",
      "54406    1650.0\n",
      "58770    1620.0\n",
      "Name: CheckInTimeTotal, dtype: float64\n",
      "\n"
     ]
    },
    {
     "data": {
      "image/png": "[encoded data removed]",
      "text/plain": [
       "<Figure size 1008x432 with 1 Axes>"
      ]
     },
     "metadata": {
      "needs_background": "light"
     },
     "output_type": "display_data"
    },
    {
     "name": "stdout",
     "output_type": "stream",
     "text": [
      "\u001b[1mSERPTotal:\n",
      "\u001b[0m19298    3493.0\n",
      "13599    3205.0\n",
      "23660    1891.0\n",
      "21087    1797.0\n",
      "26636    1780.0\n",
      "23932    1706.0\n",
      "9540     1540.0\n",
      "20281    1445.0\n",
      "31529    1406.0\n",
      "66653    1277.0\n",
      "Name: SERPTotal, dtype: float64\n",
      "\n"
     ]
    },
    {
     "data": {
      "image/png": "[encoded data removed]",
      "text/plain": [
       "<Figure size 1008x432 with 1 Axes>"
      ]
     },
     "metadata": {
      "needs_background": "light"
     },
     "output_type": "display_data"
    }
   ],
   "source": [
    "# We need to have a look at our new table and probably clean some data that we were not be able to detect during last cleaning\n",
    "\n",
    "# ------------------------------------------------------------------------------------------------------------\n",
    "#1 Technically CTR and ZRR must be a number between 0 to 1. Anything else will be dropped.\n",
    "#2 I will consier a threshhold for a browsing time, let's say 2 hours. Anything more than that must be deleted.\n",
    "#3 We should check if we have day and weekday are associated correctly\n",
    "#4 Outliers of 3 columns (visitpage, CheckIn, and SERP) must be deleted to make the data more uniform.\n",
    "#5 checkintime > sessionlength\n",
    "# -------------------------------------------------------------------------------------------------------------\n",
    "\n",
    "class color:\n",
    "   GREEN = '\\033[92m'\n",
    "   RED = '\\033[91m'\n",
    "   BOLD = '\\033[1m'\n",
    "   END = '\\033[0m'\n",
    "\n",
    "#1:\n",
    "dfresult = dfresult.drop(dfresult.loc[(dfresult['CTR'] > 1) | (dfresult['ZRR'] > 1)].index)\n",
    "#2:\n",
    "dfresult = dfresult.drop(dfresult.loc[dfresult['SessionLength'] > 7200].index)\n",
    "#3:\n",
    "for day in dfresult['Day'].unique():\n",
    "    dfresult.at[dfresult[dfresult['Day'] == day].index, 'WeekDay'] = dfresult[dfresult['Day'] == day]['WeekDay'].mode().sum()\n",
    "#4:(show stage)\n",
    "print(color.BOLD,'VisitPageTotal:\\n',color.END,dfresult.sort_values(by = 'VisitPageTotal', ascending = False)['VisitPageTotal'][:10],'\\n',sep = '')\n",
    "dfresult['VisitPageTotal'].plot(kind='box', vert=False, figsize=(14,6));\n",
    "plt.show()\n",
    "\n",
    "print(color.BOLD,'CheckInTimeTotal:\\n',color.END,dfresult.sort_values(by = 'CheckInTimeTotal', ascending = False)['CheckInTimeTotal'][:10],'\\n',sep = '')\n",
    "dfresult['CheckInTimeTotal'].plot(kind='box', vert=False, figsize=(14,6));\n",
    "plt.show()\n",
    "\n",
    "print(color.BOLD,'SERPTotal:\\n',color.END,dfresult.sort_values(by = 'SERPTotal', ascending = False)['SERPTotal'][:10],'\\n',sep = '')\n",
    "dfresult['SERPTotal'].plot(kind='box', vert=False, figsize=(14,6));\n",
    "plt.show()\n",
    "#5:\n",
    "check = (dfresult['CheckInTimeTotal'] > dfresult['SessionLength'])\n",
    "for i in dfresult.index.unique():\n",
    "    if (check[i] == True):\n",
    "        dfresult.drop(i, inplace=True)"
   ]
  },
  {
   "cell_type": "code",
   "execution_count": 36,
   "metadata": {},
   "outputs": [],
   "source": [
    "#4 (drop stage)\n",
    "dfresult.drop(dfresult.loc[dfresult['SERPTotal'] == 3493].index, inplace=True)\n",
    "dfresult.drop(dfresult.loc[dfresult['SERPTotal'] == 3205].index, inplace=True)"
   ]
  },
  {
   "cell_type": "code",
   "execution_count": 37,
   "metadata": {},
   "outputs": [
    {
     "name": "stdout",
     "output_type": "stream",
     "text": [
      "\u001b[92m       ***Click-Through Rate (CTR)*** \u001b[0m\n",
      "---------------------------------------------\n",
      "DAY   WEEKDAY      TOTAL       A        B\n",
      "---------------------------------------------\n",
      " -      -         \u001b[1m 0.24      0.29      0.15 \u001b[0m\n",
      " 1   Tuesday       0.24      0.29      0.12    \n",
      " 2   Wednesday     0.24      0.29      0.13    \n",
      " 3   Thursday      0.24      0.29      0.13    \n",
      " 4   Friday        0.25      0.29      0.17    \n",
      " 5   Saturday      0.25      0.28      0.17    \n",
      " 6   Sunday        0.25      0.3       0.17    \n",
      " 7   Monday        0.24      0.28      0.17    \n",
      " 8   Tuesday       0.24      0.28      0.16    \n",
      "\n",
      "\n",
      "\u001b[91m       ***Zero Results Rate (ZRR)*** \u001b[0m\n",
      "---------------------------------------------\n",
      "DAY   WEEKDAY      TOTAL       A        B\n",
      "---------------------------------------------\n",
      " -      -         \u001b[1m 0.18      0.18      0.19 \u001b[0m\n",
      " 1   Tuesday       0.19      0.19      0.19    \n",
      " 2   Wednesday     0.19      0.19      0.19    \n",
      " 3   Thursday      0.18      0.18      0.18    \n",
      " 4   Friday        0.18      0.18      0.18    \n",
      " 5   Saturday      0.19      0.18      0.2     \n",
      " 6   Sunday        0.18      0.17      0.19    \n",
      " 7   Monday        0.18      0.18      0.18    \n",
      " 8   Tuesday       0.2       0.2       0.19    \n"
     ]
    }
   ],
   "source": [
    "# Task 1: What is the daily overall clickthrough rate? How does it vary between the groups?\n",
    "# Task 3: What is the daily overall zero results rate? How does it vary between the groups?\n",
    "\n",
    "# Using the new table generated, it is quite easy to calculate CTR and ZRR and its realtion with days and groups\n",
    "\n",
    "dash = '-' * 45\n",
    "dfplot = pd.DataFrame(data={'DAY':[''],'CTR_A':[''],'CTR_B':[''],'ZRR_A':[''],'ZRR_B':['']},\n",
    "columns=['DAY','CTR_A','CTR_B','ZRR_A','ZRR_B'])\n",
    "\n",
    "print(color.GREEN,'      ***Click-Through Rate (CTR)***',color.END)\n",
    "print(dash)\n",
    "print('DAY   WEEKDAY      TOTAL       A        B')\n",
    "print(dash)\n",
    "total = round(dfresult['FirstClick'].sum() / dfresult['QueryTotal'].sum(), 2)\n",
    "aa    = round(dfresult.loc[dfresult['Group'] == 'a']['FirstClick'].sum() / dfresult.loc[dfresult['Group'] == 'a']['QueryTotal'].sum(), 2)\n",
    "bb    = round(dfresult.loc[dfresult['Group'] == 'b']['FirstClick'].sum() / dfresult.loc[dfresult['Group'] == 'b']['QueryTotal'].sum(), 2)\n",
    "print(' -      -        ',color.BOLD,total,'    ',aa,'    ',bb,color.END)\n",
    "for day in range(min(dfresult['Day']),max(dfresult['Day'])+1): \n",
    "    dfplot.at[day, 'DAY'] = a = day\n",
    "    b = dfresult.loc[dfresult['Day'] == day]['WeekDay'].unique().sum()\n",
    "    c = round(dfresult.loc[dfresult['Day'] == day]['FirstClick'].sum() / dfresult.loc[dfresult['Day'] == day]['QueryTotal'].sum(),2)\n",
    "    dfplot.at[day, 'CTR_A'] = d = round(dfresult.loc[(dfresult['Day'] == day) & (dfresult['Group'] == 'a') ]['FirstClick'].sum() / dfresult.loc[(dfresult['Day'] == day) &(dfresult['Group'] == 'a') ]['QueryTotal'].sum(),2)\n",
    "    dfplot.at[day, 'CTR_B'] = e = round(dfresult.loc[(dfresult['Day'] == day) & (dfresult['Group'] == 'b') ]['FirstClick'].sum() / dfresult.loc[(dfresult['Day'] == day) & (dfresult['Group'] == 'b') ]['QueryTotal'].sum(),2)\n",
    "    print(\"{:^3}  {:<12}  {:<8}  {:<8}  {:<8}\".format(a, b, c, d, e))\n",
    "\n",
    "print('\\n')\n",
    "print(color.RED,'      ***Zero Results Rate (ZRR)***',color.END)\n",
    "print(dash)\n",
    "print('DAY   WEEKDAY      TOTAL       A        B')\n",
    "print(dash)\n",
    "total = round(dfresult['ZeroSearch'].sum() / dfresult['QueryTotal'].sum(), 2)\n",
    "aa    = round(dfresult.loc[dfresult['Group'] == 'a']['ZeroSearch'].sum() / dfresult.loc[dfresult['Group'] == 'a']['QueryTotal'].sum(), 2)\n",
    "bb    = round(dfresult.loc[dfresult['Group'] == 'b']['ZeroSearch'].sum() / dfresult.loc[dfresult['Group'] == 'b']['QueryTotal'].sum(), 2)\n",
    "print(' -      -        ',color.BOLD,total,'    ',aa,'    ',bb,color.END)\n",
    "for day in range(min(dfresult['Day']),max(dfresult['Day'])+1): \n",
    "    a = day\n",
    "    b = dfresult.loc[dfresult['Day'] == day]['WeekDay'].unique().sum()\n",
    "    c = round(dfresult.loc[dfresult['Day'] == day]['ZeroSearch'].sum() / dfresult.loc[dfresult['Day'] == day]['QueryTotal'].sum(),2)\n",
    "    dfplot.at[day, 'ZRR_A'] = d = round(dfresult.loc[(dfresult['Day'] == day) & (dfresult['Group'] == 'a') ]['ZeroSearch'].sum() / dfresult.loc[(dfresult['Day'] == day) &(dfresult['Group'] == 'a') ]['QueryTotal'].sum(),2)\n",
    "    dfplot.at[day, 'ZRR_B'] = e = round(dfresult.loc[(dfresult['Day'] == day) & (dfresult['Group'] == 'b') ]['ZeroSearch'].sum() / dfresult.loc[(dfresult['Day'] == day) & (dfresult['Group'] == 'b') ]['QueryTotal'].sum(),2)\n",
    "    print(\"{:^3}  {:<12}  {:<8}  {:<8}  {:<8}\".format(a, b, c, d, e))\n",
    "   \n",
    "dfplot.drop(0, inplace=True)\n"
   ]
  },
  {
   "cell_type": "code",
   "execution_count": 38,
   "metadata": {},
   "outputs": [
    {
     "data": {
      "image/png": "[encoded data removed]",
      "text/plain": [
       "<Figure size 1080x432 with 2 Axes>"
      ]
     },
     "metadata": {
      "needs_background": "light"
     },
     "output_type": "display_data"
    }
   ],
   "source": [
    "plt.subplot(1, 2, 1)\n",
    "dfplot['CTR_A'].plot(figsize=(15,6),label='A', color='green')\n",
    "dfplot['CTR_B'].plot(figsize=(15,6),label='B', color='blue')\n",
    "plt.xlabel('Day')\n",
    "plt.ylabel('Click-Through Rate (CTR)')\n",
    "plt.legend(loc='lower right')\n",
    "plt.grid(True)\n",
    "plt.title('CTR Time Series')\n",
    "\n",
    "plt.subplot(1, 2, 2);\n",
    "dfplot['ZRR_A'].plot(figsize=(15,6),label='A', color='yellow');\n",
    "dfplot['ZRR_B'].plot(figsize=(15,6),label='B', color='red');\n",
    "plt.xlabel('Day')\n",
    "plt.ylabel('Zero Results Rate (ZRR)')\n",
    "plt.legend(loc='lower right')\n",
    "plt.grid(True)\n",
    "plt.title('ZRR Time Series')\n",
    "\n",
    "plt.tight_layout(+6);\n",
    "\n",
    " "
   ]
  },
  {
   "cell_type": "markdown",
   "metadata": {},
   "source": [
    "**Task 1 and 3 answer:** As I suggested before, even though variate B had a slightly higher traffic, yet the number of value counts of A was twice as many as B, which denoted a higher user interaction. Now, as we look at the data in CTR time series, it is clear that the winner is A. That means whatever changing that we made for example in our wesite, for the case of A was effective and made users to interact more.\n",
    "\n",
    "When it comes to ZRR, there is no colclusion, we cannot say A had yielded less zero searches only because in day 5 and 6 ZRR is lower. As you can see, in day 8, it is A ZRR which is higher.\n",
    "\n",
    "Another point is that on holidays CTR is higher in both A and B. This is the case in many websites particularly those who offers a service or product.The reason is intuitive and that is individuals have more time browsing websites compared to weekdays. The mroe you have time the more you are willing to 'Click-Through.'"
   ]
  },
  {
   "cell_type": "code",
   "execution_count": 39,
   "metadata": {},
   "outputs": [
    {
     "data": {
      "image/png": "[encoded data removed]",
      "text/plain": [
       "<Figure size 1008x432 with 1 Axes>"
      ]
     },
     "metadata": {
      "needs_background": "light"
     },
     "output_type": "display_data"
    }
   ],
   "source": [
    "# Task2: Which results do people tend to try first? How does it change day-to-day?\n",
    "\n",
    "df.loc[(df['action'] == 'visitPage') & (df['result_position'].notnull())]['result_position'].value_counts().loc[lambda x : x>90].plot(kind='bar', figsize=(14,6), xlim=(0,10));"
   ]
  },
  {
   "cell_type": "code",
   "execution_count": 40,
   "metadata": {},
   "outputs": [
    {
     "name": "stdout",
     "output_type": "stream",
     "text": [
      "Top 5 in day 1(%):\n",
      "1.0    63.26\n",
      "2.0    15.15\n",
      "3.0    6.79 \n",
      "4.0    3.98 \n",
      "5.0    2.56 \n",
      "Name: result_position, dtype: float64\n"
     ]
    },
    {
     "data": {
      "image/png": "[encoded data removed]",
      "text/plain": [
       "<Figure size 864x288 with 1 Axes>"
      ]
     },
     "metadata": {
      "needs_background": "light"
     },
     "output_type": "display_data"
    },
    {
     "name": "stdout",
     "output_type": "stream",
     "text": [
      "Top 5 in day 2(%):\n",
      "1.0    62.16\n",
      "2.0    13.93\n",
      "3.0    7.84 \n",
      "4.0    4.26 \n",
      "5.0    2.60 \n",
      "Name: result_position, dtype: float64\n"
     ]
    },
    {
     "data": {
      "image/png": "[encoded data removed]",
      "text/plain": [
       "<Figure size 864x288 with 1 Axes>"
      ]
     },
     "metadata": {
      "needs_background": "light"
     },
     "output_type": "display_data"
    },
    {
     "name": "stdout",
     "output_type": "stream",
     "text": [
      "Top 5 in day 3(%):\n",
      "1.0    62.46\n",
      "2.0    13.99\n",
      "3.0    7.45 \n",
      "4.0    3.64 \n",
      "5.0    2.41 \n",
      "Name: result_position, dtype: float64\n"
     ]
    },
    {
     "data": {
      "image/png": "[encoded data removed]",
      "text/plain": [
       "<Figure size 864x288 with 1 Axes>"
      ]
     },
     "metadata": {
      "needs_background": "light"
     },
     "output_type": "display_data"
    },
    {
     "name": "stdout",
     "output_type": "stream",
     "text": [
      "Top 5 in day 4(%):\n",
      "1.0    64.33\n",
      "2.0    14.45\n",
      "3.0    6.90 \n",
      "4.0    4.17 \n",
      "5.0    2.35 \n",
      "Name: result_position, dtype: float64\n"
     ]
    },
    {
     "data": {
      "image/png": "[encoded data removed]",
      "text/plain": [
       "<Figure size 864x288 with 1 Axes>"
      ]
     },
     "metadata": {
      "needs_background": "light"
     },
     "output_type": "display_data"
    },
    {
     "name": "stdout",
     "output_type": "stream",
     "text": [
      "Top 5 in day 5(%):\n",
      "1.0    61.89\n",
      "2.0    15.43\n",
      "3.0    7.26 \n",
      "4.0    3.93 \n",
      "5.0    2.48 \n",
      "Name: result_position, dtype: float64\n"
     ]
    },
    {
     "data": {
      "image/png": "[encoded data removed]",
      "text/plain": [
       "<Figure size 864x288 with 1 Axes>"
      ]
     },
     "metadata": {
      "needs_background": "light"
     },
     "output_type": "display_data"
    },
    {
     "name": "stdout",
     "output_type": "stream",
     "text": [
      "Top 5 in day 6(%):\n",
      "1.0    62.63\n",
      "2.0    14.53\n",
      "3.0    7.59 \n",
      "4.0    4.19 \n",
      "5.0    2.40 \n",
      "Name: result_position, dtype: float64\n"
     ]
    },
    {
     "data": {
      "image/png": "[encoded data removed]",
      "text/plain": [
       "<Figure size 864x288 with 1 Axes>"
      ]
     },
     "metadata": {
      "needs_background": "light"
     },
     "output_type": "display_data"
    },
    {
     "name": "stdout",
     "output_type": "stream",
     "text": [
      "Top 5 in day 7(%):\n",
      "1.0    62.90\n",
      "2.0    13.73\n",
      "3.0    7.56 \n",
      "4.0    4.09 \n",
      "5.0    2.45 \n",
      "Name: result_position, dtype: float64\n"
     ]
    },
    {
     "data": {
      "image/png": "[encoded data removed]",
      "text/plain": [
       "<Figure size 864x288 with 1 Axes>"
      ]
     },
     "metadata": {
      "needs_background": "light"
     },
     "output_type": "display_data"
    },
    {
     "name": "stdout",
     "output_type": "stream",
     "text": [
      "Top 5 in day 8(%):\n",
      "1.0    61.99\n",
      "2.0    13.88\n",
      "3.0    7.14 \n",
      "4.0    3.88 \n",
      "5.0    2.77 \n",
      "Name: result_position, dtype: float64\n"
     ]
    },
    {
     "data": {
      "image/png": "[encoded data removed]",
      "text/plain": [
       "<Figure size 864x288 with 1 Axes>"
      ]
     },
     "metadata": {
      "needs_background": "light"
     },
     "output_type": "display_data"
    }
   ],
   "source": [
    "# Task2: Which results do people tend to try first? How does it change day-to-day?\n",
    "\n",
    "df['day'] = df['timestamp'].dt.day\n",
    "\n",
    "for day in range(min(df['day']),max(df['day'])+1):\n",
    "    print('Top 5 in day ',day,'(%):\\n',round(df.loc[((df['action'] == 'visitPage') & (df['result_position'].notnull())) & (df['day'] == day) ]['result_position'].value_counts(normalize=True, ascending=False)[:5]*100,2), sep = '')\n",
    "    (df.loc[((df['action'] == 'visitPage') & (df['result_position'].notnull())) & (df['day'] == day) ]['result_position'].value_counts(normalize=True, ascending=True)*100)[5:].plot(kind='barh', figsize=(12,4), color='green');\n",
    "    plt.xlabel('Click tendency in %total')\n",
    "    plt.ylabel('Link position in the query page')\n",
    "    plt.title('The tendency to open a link')\n",
    "    plt.show()\n",
    "    ;"
   ]
  },
  {
   "cell_type": "markdown",
   "metadata": {},
   "source": [
    "**Task 2 answer:** People are tend to be lazy! We prefer to choose the first link with a great diffrence and then the rest of the query until around 10 to 15 positions when the tendency slightly goes to the last one which was evidently 20. Note that from page second we witness a great drop in intrest."
   ]
  },
  {
   "cell_type": "code",
   "execution_count": 41,
   "metadata": {
    "scrolled": true
   },
   "outputs": [
    {
     "data": {
      "image/png": "[encoded data removed]",
      "text/plain": [
       "<Figure size 720x288 with 1 Axes>"
      ]
     },
     "metadata": {
      "needs_background": "light"
     },
     "output_type": "display_data"
    },
    {
     "data": {
      "image/png": "[encoded data removed]",
      "text/plain": [
       "<Figure size 720x288 with 1 Axes>"
      ]
     },
     "metadata": {
      "needs_background": "light"
     },
     "output_type": "display_data"
    }
   ],
   "source": [
    "# Task4: Choose a variable from the dataset and describe its relationship to session length. Visualize the relationship.\n",
    "# I believe when it is possible visualization tools are far better than Python to answer this task, however for the sake of exam\n",
    "# I will draw some features' relation with SessionLength\n",
    "# We can use mutual information and correlation in order to know which parameter affects SessionLength most. \n",
    "\n",
    "dfresult.groupby(['WeekDay'])['SessionLength'].mean().plot(kind = 'bar', x='WeekDay', y='SessionLength', figsize=(10,4));\n",
    "plt.ylabel('Average sessionLength in seconds')\n",
    "plt.show()\n",
    "\n",
    "dfresult.groupby(['Group'])['SessionLength'].mean().plot(kind = 'bar', x='Group', y='SessionLength', figsize=(10,4));\n",
    "plt.ylabel('Average session Length in seconds')\n",
    "plt.show()"
   ]
  },
  {
   "cell_type": "code",
   "execution_count": 48,
   "metadata": {},
   "outputs": [
    {
     "data": {
      "text/html": [
       "<div>\n",
       "<style scoped>\n",
       "    .dataframe tbody tr th:only-of-type {\n",
       "        vertical-align: middle;\n",
       "    }\n",
       "\n",
       "    .dataframe tbody tr th {\n",
       "        vertical-align: top;\n",
       "    }\n",
       "\n",
       "    .dataframe thead th {\n",
       "        text-align: right;\n",
       "    }\n",
       "</style>\n",
       "<table border=\"1\" class=\"dataframe\">\n",
       "  <thead>\n",
       "    <tr style=\"text-align: right;\">\n",
       "      <th></th>\n",
       "      <th>Feature</th>\n",
       "      <th>Score</th>\n",
       "    </tr>\n",
       "  </thead>\n",
       "  <tbody>\n",
       "    <tr>\n",
       "      <th>0</th>\n",
       "      <td>SessionId</td>\n",
       "      <td>4.24</td>\n",
       "    </tr>\n",
       "    <tr>\n",
       "      <th>3</th>\n",
       "      <td>SessionLength</td>\n",
       "      <td>4.24</td>\n",
       "    </tr>\n",
       "    <tr>\n",
       "      <th>6</th>\n",
       "      <td>CheckInTimeTotal</td>\n",
       "      <td>0.99</td>\n",
       "    </tr>\n",
       "    <tr>\n",
       "      <th>7</th>\n",
       "      <td>SERPTotal</td>\n",
       "      <td>0.67</td>\n",
       "    </tr>\n",
       "    <tr>\n",
       "      <th>11</th>\n",
       "      <td>CTR</td>\n",
       "      <td>0.53</td>\n",
       "    </tr>\n",
       "    <tr>\n",
       "      <th>10</th>\n",
       "      <td>QueryTotal</td>\n",
       "      <td>0.52</td>\n",
       "    </tr>\n",
       "    <tr>\n",
       "      <th>5</th>\n",
       "      <td>VisitPageTotal</td>\n",
       "      <td>0.45</td>\n",
       "    </tr>\n",
       "    <tr>\n",
       "      <th>8</th>\n",
       "      <td>FirstClick</td>\n",
       "      <td>0.43</td>\n",
       "    </tr>\n",
       "    <tr>\n",
       "      <th>4</th>\n",
       "      <td>Group</td>\n",
       "      <td>0.37</td>\n",
       "    </tr>\n",
       "    <tr>\n",
       "      <th>12</th>\n",
       "      <td>ZRR</td>\n",
       "      <td>0.23</td>\n",
       "    </tr>\n",
       "    <tr>\n",
       "      <th>9</th>\n",
       "      <td>ZeroSearch</td>\n",
       "      <td>0.13</td>\n",
       "    </tr>\n",
       "    <tr>\n",
       "      <th>1</th>\n",
       "      <td>Day</td>\n",
       "      <td>0.07</td>\n",
       "    </tr>\n",
       "    <tr>\n",
       "      <th>2</th>\n",
       "      <td>WeekDay</td>\n",
       "      <td>0.06</td>\n",
       "    </tr>\n",
       "  </tbody>\n",
       "</table>\n",
       "</div>"
      ],
      "text/plain": [
       "             Feature  Score\n",
       "0   SessionId         4.24 \n",
       "3   SessionLength     4.24 \n",
       "6   CheckInTimeTotal  0.99 \n",
       "7   SERPTotal         0.67 \n",
       "11  CTR               0.53 \n",
       "10  QueryTotal        0.52 \n",
       "5   VisitPageTotal    0.45 \n",
       "8   FirstClick        0.43 \n",
       "4   Group             0.37 \n",
       "12  ZRR               0.23 \n",
       "9   ZeroSearch        0.13 \n",
       "1   Day               0.07 \n",
       "2   WeekDay           0.06 "
      ]
     },
     "execution_count": 48,
     "metadata": {},
     "output_type": "execute_result"
    }
   ],
   "source": [
    "# Mutual information complete table\n",
    "mi= pd.DataFrame({'Feature': range(len(dfresult.columns)),'Score': range(len(dfresult.columns))}, columns=['Feature', 'Score'])\n",
    "mi['Feature'] = np.nan\n",
    "mi['Score'] = np.nan\n",
    "i=0\n",
    "for feature in dfresult.columns:\n",
    "    score = round(sklearn.metrics.mutual_info_score(dfresult['SessionLength'], dfresult[feature]), 2)\n",
    "    mi.at[i,'Score'] = score\n",
    "    mi['Feature'][i] = feature\n",
    "    i=i+1\n",
    "mi.sort_values(by = 'Score', ascending = False)\n",
    "\n"
   ]
  },
  {
   "cell_type": "code",
   "execution_count": 49,
   "metadata": {},
   "outputs": [
    {
     "data": {
      "text/html": [
       "<div>\n",
       "<style scoped>\n",
       "    .dataframe tbody tr th:only-of-type {\n",
       "        vertical-align: middle;\n",
       "    }\n",
       "\n",
       "    .dataframe tbody tr th {\n",
       "        vertical-align: top;\n",
       "    }\n",
       "\n",
       "    .dataframe thead th {\n",
       "        text-align: right;\n",
       "    }\n",
       "</style>\n",
       "<table border=\"1\" class=\"dataframe\">\n",
       "  <thead>\n",
       "    <tr style=\"text-align: right;\">\n",
       "      <th></th>\n",
       "      <th>Day</th>\n",
       "      <th>SessionLength</th>\n",
       "      <th>VisitPageTotal</th>\n",
       "      <th>CheckInTimeTotal</th>\n",
       "      <th>SERPTotal</th>\n",
       "      <th>FirstClick</th>\n",
       "      <th>ZeroSearch</th>\n",
       "      <th>QueryTotal</th>\n",
       "      <th>CTR</th>\n",
       "      <th>ZRR</th>\n",
       "    </tr>\n",
       "  </thead>\n",
       "  <tbody>\n",
       "    <tr>\n",
       "      <th>Day</th>\n",
       "      <td>1.000000</td>\n",
       "      <td>-0.022740</td>\n",
       "      <td>-0.077917</td>\n",
       "      <td>-0.040525</td>\n",
       "      <td>-0.004142</td>\n",
       "      <td>0.000006</td>\n",
       "      <td>-0.000646</td>\n",
       "      <td>-0.002689</td>\n",
       "      <td>0.004180</td>\n",
       "      <td>0.004971</td>\n",
       "    </tr>\n",
       "    <tr>\n",
       "      <th>SessionLength</th>\n",
       "      <td>-0.022740</td>\n",
       "      <td>1.000000</td>\n",
       "      <td>0.491556</td>\n",
       "      <td>0.652303</td>\n",
       "      <td>0.424985</td>\n",
       "      <td>0.523210</td>\n",
       "      <td>0.204659</td>\n",
       "      <td>0.504600</td>\n",
       "      <td>0.305039</td>\n",
       "      <td>-0.085043</td>\n",
       "    </tr>\n",
       "    <tr>\n",
       "      <th>VisitPageTotal</th>\n",
       "      <td>-0.077917</td>\n",
       "      <td>0.491556</td>\n",
       "      <td>1.000000</td>\n",
       "      <td>0.511926</td>\n",
       "      <td>0.393237</td>\n",
       "      <td>0.882659</td>\n",
       "      <td>-0.017278</td>\n",
       "      <td>0.332735</td>\n",
       "      <td>0.542678</td>\n",
       "      <td>-0.170535</td>\n",
       "    </tr>\n",
       "    <tr>\n",
       "      <th>CheckInTimeTotal</th>\n",
       "      <td>-0.040525</td>\n",
       "      <td>0.652303</td>\n",
       "      <td>0.511926</td>\n",
       "      <td>1.000000</td>\n",
       "      <td>0.165094</td>\n",
       "      <td>0.517743</td>\n",
       "      <td>-0.049701</td>\n",
       "      <td>0.107729</td>\n",
       "      <td>0.547537</td>\n",
       "      <td>-0.159659</td>\n",
       "    </tr>\n",
       "    <tr>\n",
       "      <th>SERPTotal</th>\n",
       "      <td>-0.004142</td>\n",
       "      <td>0.424985</td>\n",
       "      <td>0.393237</td>\n",
       "      <td>0.165094</td>\n",
       "      <td>1.000000</td>\n",
       "      <td>0.457973</td>\n",
       "      <td>0.037984</td>\n",
       "      <td>0.635644</td>\n",
       "      <td>0.026310</td>\n",
       "      <td>-0.213314</td>\n",
       "    </tr>\n",
       "    <tr>\n",
       "      <th>FirstClick</th>\n",
       "      <td>0.000006</td>\n",
       "      <td>0.523210</td>\n",
       "      <td>0.882659</td>\n",
       "      <td>0.517743</td>\n",
       "      <td>0.457973</td>\n",
       "      <td>1.000000</td>\n",
       "      <td>-0.009336</td>\n",
       "      <td>0.396058</td>\n",
       "      <td>0.574314</td>\n",
       "      <td>-0.180262</td>\n",
       "    </tr>\n",
       "    <tr>\n",
       "      <th>ZeroSearch</th>\n",
       "      <td>-0.000646</td>\n",
       "      <td>0.204659</td>\n",
       "      <td>-0.017278</td>\n",
       "      <td>-0.049701</td>\n",
       "      <td>0.037984</td>\n",
       "      <td>-0.009336</td>\n",
       "      <td>1.000000</td>\n",
       "      <td>0.655733</td>\n",
       "      <td>-0.142848</td>\n",
       "      <td>0.454933</td>\n",
       "    </tr>\n",
       "    <tr>\n",
       "      <th>QueryTotal</th>\n",
       "      <td>-0.002689</td>\n",
       "      <td>0.504600</td>\n",
       "      <td>0.332735</td>\n",
       "      <td>0.107729</td>\n",
       "      <td>0.635644</td>\n",
       "      <td>0.396058</td>\n",
       "      <td>0.655733</td>\n",
       "      <td>1.000000</td>\n",
       "      <td>-0.080083</td>\n",
       "      <td>0.060164</td>\n",
       "    </tr>\n",
       "    <tr>\n",
       "      <th>CTR</th>\n",
       "      <td>0.004180</td>\n",
       "      <td>0.305039</td>\n",
       "      <td>0.542678</td>\n",
       "      <td>0.547537</td>\n",
       "      <td>0.026310</td>\n",
       "      <td>0.574314</td>\n",
       "      <td>-0.142848</td>\n",
       "      <td>-0.080083</td>\n",
       "      <td>1.000000</td>\n",
       "      <td>-0.288135</td>\n",
       "    </tr>\n",
       "    <tr>\n",
       "      <th>ZRR</th>\n",
       "      <td>0.004971</td>\n",
       "      <td>-0.085043</td>\n",
       "      <td>-0.170535</td>\n",
       "      <td>-0.159659</td>\n",
       "      <td>-0.213314</td>\n",
       "      <td>-0.180262</td>\n",
       "      <td>0.454933</td>\n",
       "      <td>0.060164</td>\n",
       "      <td>-0.288135</td>\n",
       "      <td>1.000000</td>\n",
       "    </tr>\n",
       "  </tbody>\n",
       "</table>\n",
       "</div>"
      ],
      "text/plain": [
       "                       Day  SessionLength  VisitPageTotal  CheckInTimeTotal  \\\n",
       "Day               1.000000 -0.022740      -0.077917       -0.040525           \n",
       "SessionLength    -0.022740  1.000000       0.491556        0.652303           \n",
       "VisitPageTotal   -0.077917  0.491556       1.000000        0.511926           \n",
       "CheckInTimeTotal -0.040525  0.652303       0.511926        1.000000           \n",
       "SERPTotal        -0.004142  0.424985       0.393237        0.165094           \n",
       "FirstClick        0.000006  0.523210       0.882659        0.517743           \n",
       "ZeroSearch       -0.000646  0.204659      -0.017278       -0.049701           \n",
       "QueryTotal       -0.002689  0.504600       0.332735        0.107729           \n",
       "CTR               0.004180  0.305039       0.542678        0.547537           \n",
       "ZRR               0.004971 -0.085043      -0.170535       -0.159659           \n",
       "\n",
       "                  SERPTotal  FirstClick  ZeroSearch  QueryTotal       CTR  \\\n",
       "Day              -0.004142   0.000006   -0.000646   -0.002689    0.004180   \n",
       "SessionLength     0.424985   0.523210    0.204659    0.504600    0.305039   \n",
       "VisitPageTotal    0.393237   0.882659   -0.017278    0.332735    0.542678   \n",
       "CheckInTimeTotal  0.165094   0.517743   -0.049701    0.107729    0.547537   \n",
       "SERPTotal         1.000000   0.457973    0.037984    0.635644    0.026310   \n",
       "FirstClick        0.457973   1.000000   -0.009336    0.396058    0.574314   \n",
       "ZeroSearch        0.037984  -0.009336    1.000000    0.655733   -0.142848   \n",
       "QueryTotal        0.635644   0.396058    0.655733    1.000000   -0.080083   \n",
       "CTR               0.026310   0.574314   -0.142848   -0.080083    1.000000   \n",
       "ZRR              -0.213314  -0.180262    0.454933    0.060164   -0.288135   \n",
       "\n",
       "                       ZRR  \n",
       "Day               0.004971  \n",
       "SessionLength    -0.085043  \n",
       "VisitPageTotal   -0.170535  \n",
       "CheckInTimeTotal -0.159659  \n",
       "SERPTotal        -0.213314  \n",
       "FirstClick       -0.180262  \n",
       "ZeroSearch        0.454933  \n",
       "QueryTotal        0.060164  \n",
       "CTR              -0.288135  \n",
       "ZRR               1.000000  "
      ]
     },
     "execution_count": 49,
     "metadata": {},
     "output_type": "execute_result"
    }
   ],
   "source": [
    "dfresult.corr()"
   ]
  },
  {
   "cell_type": "code",
   "execution_count": 50,
   "metadata": {},
   "outputs": [
    {
     "data": {
      "image/png": "[encoded data removed]",
      "text/plain": [
       "<Figure size 1008x360 with 1 Axes>"
      ]
     },
     "metadata": {
      "needs_background": "light"
     },
     "output_type": "display_data"
    },
    {
     "data": {
      "image/png": "[encoded data removed]",
      "text/plain": [
       "<Figure size 1008x360 with 1 Axes>"
      ]
     },
     "metadata": {
      "needs_background": "light"
     },
     "output_type": "display_data"
    },
    {
     "data": {
      "image/png": "[encoded data removed]",
      "text/plain": [
       "<Figure size 1008x360 with 1 Axes>"
      ]
     },
     "metadata": {
      "needs_background": "light"
     },
     "output_type": "display_data"
    },
    {
     "data": {
      "image/png": "[encoded data removed]",
      "text/plain": [
       "<Figure size 1008x360 with 1 Axes>"
      ]
     },
     "metadata": {
      "needs_background": "light"
     },
     "output_type": "display_data"
    },
    {
     "data": {
      "image/png": "[encoded data removed]",
      "text/plain": [
       "<Figure size 1008x360 with 1 Axes>"
      ]
     },
     "metadata": {
      "needs_background": "light"
     },
     "output_type": "display_data"
    },
    {
     "data": {
      "image/png": "[encoded data removed]",
      "text/plain": [
       "<Figure size 1008x360 with 1 Axes>"
      ]
     },
     "metadata": {
      "needs_background": "light"
     },
     "output_type": "display_data"
    },
    {
     "data": {
      "image/png": "[encoded data removed]",
      "text/plain": [
       "<Figure size 1008x360 with 1 Axes>"
      ]
     },
     "metadata": {
      "needs_background": "light"
     },
     "output_type": "display_data"
    },
    {
     "data": {
      "image/png": "[encoded data removed]",
      "text/plain": [
       "<Figure size 1008x360 with 1 Axes>"
      ]
     },
     "metadata": {
      "needs_background": "light"
     },
     "output_type": "display_data"
    },
    {
     "data": {
      "image/png": "[encoded data removed]",
      "text/plain": [
       "<Figure size 1008x360 with 1 Axes>"
      ]
     },
     "metadata": {
      "needs_background": "light"
     },
     "output_type": "display_data"
    }
   ],
   "source": [
    "# features defined for plotting \n",
    "output = \"SessionLength\"\n",
    "numerical_features = [feature for feature in dfresult.columns if dfresult[feature].dtypes != 'O']\n",
    "year_feature = [feature for feature in numerical_features if 'Yr' in feature or 'Year' in feature]\n",
    "discrete_feature=[feature for feature in numerical_features if len(dfresult[feature].unique())<25 and feature not in year_feature]\n",
    "continuous_feature=[feature for feature in numerical_features if feature not in discrete_feature+year_feature]\n",
    "\n",
    "# Numeric-Continous feature: scatter\n",
    "for feature in continuous_feature:\n",
    "    dfresult.plot(kind='scatter', x=feature, y=output, figsize=(14,5))\n",
    "    plt.title(feature)\n",
    "    plt.show()"
   ]
  },
  {
   "cell_type": "markdown",
   "metadata": {},
   "source": [
    "**Task 4 answer:** Considering the tables and charts, some intresting points to mention are as follows:\n",
    "1- CTR is higher during the weekend but average SessionLength is lower, which means individuals spend less time but with more interaction with the website.\n",
    "\n",
    "2- Group A had spend 4 times as much as Group B in the website with higher CTR rate even though the distribution traffic to A was even a bit higher than A.\n",
    "\n",
    "3- CheckInTime/FirstClick/VisitPageTotal: With a medium correlation, the more visitors spend time in the website, the more possibility they click on the results at query page and spend time visiting different pages of the website.\n",
    "\n",
    "4- SERPTotal: Here, also we can see a small correlation. However, correlation is not the causation: the more session length is the more users interact with the website, thus increasing the possibility of higher number of search results."
   ]
  },
  {
   "cell_type": "markdown",
   "metadata": {},
   "source": [
    "**Task 5 answer: Executive Summary:** The above task is the analysis of the result of an A/B variate test performed in the first 8 days of March 2016 with around 57% traffic distributed to B variate and 43% to A.\n",
    "\n",
    "The result of the above analysis reveals that variate A in all 8 days absorbs more interactions from users, based on Click-Through Rate (CTR), despite having been recieved slightely less traffic. However, the results are not conclusive as for Zero Results Rate (ZRR) since the rate is turbulant not providing adequete data to conclude.\n",
    "\n",
    "CTR is sparsely higher in the weekends though SessionLenghth, which is the time differences between start and end of a session, is lower in the same period. Also, variate A had kept customers in the website 4 times as many as variate B.\n",
    "\n",
    "Moreover, around 64% of customers tended to click merely on the first result regardless of the day and variates.\n",
    "\n",
    "Finally, the more the search engine returns hits for the user, the higher chance the visitor stays at the website thus opening new pages and staying in the website. As a result, the optimization of website's search engine seems to be key factor to increase and retain our customers."
   ]
  }
 ],
 "metadata": {
  "kernelspec": {
   "display_name": "Python 3",
   "language": "python",
   "name": "python3"
  },
  "language_info": {
   "codemirror_mode": {
    "name": "ipython",
    "version": 3
   },
   "file_extension": ".py",
   "mimetype": "text/x-python",
   "name": "python",
   "nbconvert_exporter": "python",
   "pygments_lexer": "ipython3",
   "version": "3.8.3"
  }
 },
 "nbformat": 4,
 "nbformat_minor": 4
}
