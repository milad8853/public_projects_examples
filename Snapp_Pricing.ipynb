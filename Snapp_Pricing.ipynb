{
 "cells": [
  {
   "cell_type": "code",
   "execution_count": 356,
   "metadata": {},
   "outputs": [],
   "source": [
    "import pandas as pd\t\t\t\t\t\t\t\t\t\t\t\t\t# data manipulation\n",
    "import matplotlib.pyplot as plt\t\t\t\t\t\t\t\t\t\t\t\t# graphs\n",
    "import seaborn as sns\t\t\t\t\t\t\t\t\t\t\t\t\t# graphs\n",
    "import numpy as np\t\t\t\t\t\t\t\t\t\t\t\t\t# graphs\n",
    "from scipy.stats import norm\t\t\t\t\t\t\t\t\t\t\t\t# statistics\n",
    "from sklearn.preprocessing import StandardScaler\t\t\t\t\t\t\t\t\t# statistics\n",
    "from scipy import stats\t\t\t\t\t\t\t\t\t\t\t\t\t# statistics\n",
    "from math import *\t\t\t\t\t\t\t\t\t\t\t\t\t# advance calculation\t\n",
    "from matplotlib import cm\t\t\t\t\t\t\t\t\t\t\t\t# graphs\n",
    "import sys\t\t\t\t\t\t\t\t\t\t\t\t\t\t# system functions\n",
    "import warnings\t\t\t\t\t\t\t\t\t\t\t\t\t\t# indicating warnings\n",
    "warnings.filterwarnings('ignore')\t\t\t\t\t\t\t\t\t\t\t# ignore by default\n",
    "from matplotlib.ticker import LinearLocator\t\t\t\t\t\t\t\t\t\t# graphs\n",
    "pd.set_option('display.max_columns', None)\t\t\t\t\t\t\t\t\t\t# show all columns\n",
    "pd.set_option('display.max_rows', None)\t\t\t\t\t\t\t\t\t\t\t# show all rows\n",
    "np.set_printoptions(threshold=sys.maxsize)\t\t\t\t\t\t\t\t\t\t# show arrays full\n",
    "pd.set_option(\"display.max_colwidth\", -1)\t\t\t\t\t\t\t\t\t\t# show a complete text in a cell\n",
    "pd.set_option('display.precision',3)\n",
    "from xlsxwriter.workbook import Workbook\t\t\t\t\t\t\t\t\t\t# CSV writing\n",
    "import csv\t\t\t\t\t\t\t\t\t\t\t\t\t\t# CSV writing\t\n",
    "import xgboost as xgb\t\t\t\t\t\t\t\t\t\t\t\t\t# prediction\n",
    "import pickle\t\t\t\t\t\t\t\t\t\t\t\t\t\t# prediction\t\n",
    "import sklearn\t\t\t\t\t\t\t\t\t\t\t\t\t\t# mutual information\n",
    "import statsmodels.api as sm\t\t\t\t\t\t\t\t\t\t\t\t# coefficient\n",
    "from sklearn.ensemble import RandomForestClassifier\t\t\t\t\t\t\t\t\t# random forest\n",
    "from sklearn import linear_model\t\t\t\t\t\t\t\t\t\t\t# linear regression\n",
    "import pymysql\t\t\t\t\t\t\t\t\t\t\t\t\t\t# MySql connection\n",
    "import datetime\t\t\t\t\t\t\t\t\t\t\t\t\t\t# time conversions\n",
    "import random\t\t\t\t\t\t\t\t\t\t\t\t\t\t# randomchoice\n",
    "import math as math\t\t\t\t\t\t\t\t\t\t\t\t\t# maths\n",
    "import statistics\t\t\t\t\t\t\t\t\t\t\t\t\t# statistics\n",
    "import glob\t\t\t\t\t\t\t\t\t\t\t\t\t\t# paths and files management"
   ]
  },
  {
   "cell_type": "code",
   "execution_count": 518,
   "metadata": {},
   "outputs": [],
   "source": [
    "# Snapp Pricing at driver's level\n",
    "\n",
    "df = pd.read_csv('Snapp_Pricing.csv', skipinitialspace=True)"
   ]
  },
  {
   "cell_type": "code",
   "execution_count": 519,
   "metadata": {
    "scrolled": true
   },
   "outputs": [],
   "source": [
    "\n",
    "df.drop(columns=['Phone Number','Email','Fare Base','Payouts Cash Collected'], inplace=True)\n",
    "df.columns=['Driver','Date','TripID','TripType','FareDistance','FareDropoff','FarePickup','FareCommission','FarePromotion',\n",
    "            'FareTip','FareTotal']\n",
    "cols=['FareDistance', 'FareDropoff','FarePickup', 'FareCommission', 'FarePromotion', 'FareTip','FareTotal']\n",
    "for column in cols:\n",
    "    df[column].replace({'ZAR\\xa0':''}, regex=True, inplace=True)\n",
    "    df[column] = df[column].astype(float)\n",
    "    \n",
    "df['Date'] = pd.to_datetime(df['Date'])\n",
    "df = df.sort_values(['Driver', 'Date'], ascending=[True, True])\n",
    "df = df.reset_index(drop=True)\n",
    "df['Day'] = df['Date'].dt.day_name()\n",
    "df = df[['Driver','TripType', 'TripID', 'Date', 'Day', 'FareDistance', 'FareDropoff',\n",
    "   'FarePickup', 'FareCommission', 'FarePromotion', 'FareTip','FareTotal']]\n",
    "drop1=df.loc[(df['FareDistance'].isnull())|(df['FareDropoff'].isnull())|(df['FarePickup'].isnull())|(df['FareCommission'].isnull())]\n",
    "df.drop(drop1.index,inplace=True)\n",
    "df['FarePromotion'] = df['FarePromotion'].fillna(0)\n",
    "df['FareTip'] = df['FareTip'].fillna(0)"
   ]
  },
  {
   "cell_type": "code",
   "execution_count": 520,
   "metadata": {
    "scrolled": true
   },
   "outputs": [
    {
     "data": {
      "text/plain": [
       "-3.21"
      ]
     },
     "execution_count": 520,
     "metadata": {},
     "output_type": "execute_result"
    }
   ],
   "source": [
    "# Commission per trip\n",
    "\n",
    "round((df['FareCommission'].sum())/(df.shape[0]),2)"
   ]
  },
  {
   "cell_type": "code",
   "execution_count": 521,
   "metadata": {
    "scrolled": true
   },
   "outputs": [
    {
     "data": {
      "text/plain": [
       "-18.39"
      ]
     },
     "execution_count": 521,
     "metadata": {},
     "output_type": "execute_result"
    }
   ],
   "source": [
    "# Commission per day\n",
    "\n",
    "round((df['FareCommission'].sum())/((df['Date'].tail(1).reset_index()-df['Date'].head(1).reset_index())['Date']/np.timedelta64(1, 'D')).sum(),2)"
   ]
  },
  {
   "cell_type": "code",
   "execution_count": 522,
   "metadata": {},
   "outputs": [
    {
     "data": {
      "text/plain": [
       "-0.21"
      ]
     },
     "execution_count": 522,
     "metadata": {},
     "output_type": "execute_result"
    }
   ],
   "source": [
    "# Snapp revenue from driver in the given time\n",
    "\n",
    "round((abs(df['FareCommission']) - df['FarePromotion']).sum(),2)"
   ]
  },
  {
   "cell_type": "code",
   "execution_count": 523,
   "metadata": {},
   "outputs": [
    {
     "data": {
      "text/plain": [
       "31.67"
      ]
     },
     "execution_count": 523,
     "metadata": {},
     "output_type": "execute_result"
    }
   ],
   "source": [
    "# Percentage of income driven from tip to total\n",
    "\n",
    "round((df['FareTip'].sum()/df['FareTotal'].sum())*100,2)"
   ]
  },
  {
   "cell_type": "code",
   "execution_count": 524,
   "metadata": {
    "scrolled": true
   },
   "outputs": [
    {
     "data": {
      "text/plain": [
       "268.98"
      ]
     },
     "execution_count": 524,
     "metadata": {},
     "output_type": "execute_result"
    }
   ],
   "source": [
    "# Income per day after commission deduction\n",
    "\n",
    "round(df['FareTotal'].sum()/((df['Date'].tail(1).reset_index()-df['Date'].head(1).reset_index())['Date']/np.timedelta64(1, 'D')).sum(),2)"
   ]
  },
  {
   "cell_type": "code",
   "execution_count": 550,
   "metadata": {
    "scrolled": true
   },
   "outputs": [
    {
     "name": "stdout",
     "output_type": "stream",
     "text": [
      "Monday : 46.88\n",
      "Tuesday : 63.63\n",
      "Wednesday : 50.06\n",
      "Thursday : 62.58\n",
      "Friday : 94.29\n",
      "Saturday : 77.25\n",
      "Sunday : 64.36\n"
     ]
    }
   ],
   "source": [
    "# Productivity per day\n",
    "\n",
    "period = [0] * 100\n",
    "for day in df['Day'].unique():\n",
    "    weekday = df.loc[df['Day'] == day]\n",
    "    i=0\n",
    "    for date in weekday['Date'].astype(str).str[:10].unique():\n",
    "        weekday2 = weekday.loc[weekday['Date'].astype(str).str[:10] == date]\n",
    "        period[i]=((weekday2['Date'].tail(1).reset_index()-weekday2['Date'].head(1).reset_index())['Date']/np.timedelta64(1, 'h')).sum()\n",
    "        i=i+1  \n",
    "    print(day,':',round((weekday['FareTotal'].sum())/(sum(period)),2))\n"
   ]
  }
 ],
 "metadata": {
  "kernelspec": {
   "display_name": "Python 3",
   "language": "python",
   "name": "python3"
  },
  "language_info": {
   "codemirror_mode": {
    "name": "ipython",
    "version": 3
   },
   "file_extension": ".py",
   "mimetype": "text/x-python",
   "name": "python",
   "nbconvert_exporter": "python",
   "pygments_lexer": "ipython3",
   "version": "3.8.3"
  }
 },
 "nbformat": 4,
 "nbformat_minor": 4
}
